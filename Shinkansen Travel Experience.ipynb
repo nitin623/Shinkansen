{
 "cells": [
  {
   "cell_type": "code",
   "execution_count": 1,
   "id": "8c098916",
   "metadata": {},
   "outputs": [],
   "source": [
    "import pandas as pd\n",
    "import numpy as np\n",
    "import seaborn as sns\n",
    "import matplotlib.pyplot as plt\n",
    "%matplotlib inline\n",
    "from sklearn.metrics import confusion_matrix\n",
    "from sklearn.metrics import classification_report"
   ]
  },
  {
   "cell_type": "code",
   "execution_count": 2,
   "id": "b3152497",
   "metadata": {},
   "outputs": [],
   "source": [
    "df = pd.read_csv(\"F:\\\\Surveydata_train_(1).csv\")"
   ]
  },
  {
   "cell_type": "code",
   "execution_count": 3,
   "id": "a69aec92",
   "metadata": {
    "scrolled": true
   },
   "outputs": [
    {
     "data": {
      "text/html": [
       "<div>\n",
       "<style scoped>\n",
       "    .dataframe tbody tr th:only-of-type {\n",
       "        vertical-align: middle;\n",
       "    }\n",
       "\n",
       "    .dataframe tbody tr th {\n",
       "        vertical-align: top;\n",
       "    }\n",
       "\n",
       "    .dataframe thead th {\n",
       "        text-align: right;\n",
       "    }\n",
       "</style>\n",
       "<table border=\"1\" class=\"dataframe\">\n",
       "  <thead>\n",
       "    <tr style=\"text-align: right;\">\n",
       "      <th></th>\n",
       "      <th>ID</th>\n",
       "      <th>Overall_Experience</th>\n",
       "      <th>Seat_comfort</th>\n",
       "      <th>Seat_Class</th>\n",
       "      <th>Arrival_time_convenient</th>\n",
       "      <th>Catering</th>\n",
       "      <th>Platform_location</th>\n",
       "      <th>Onboardwifi_service</th>\n",
       "      <th>Onboard_entertainment</th>\n",
       "      <th>Online_support</th>\n",
       "      <th>Onlinebooking_Ease</th>\n",
       "      <th>Onboard_service</th>\n",
       "      <th>Leg_room</th>\n",
       "      <th>Baggage_handling</th>\n",
       "      <th>Checkin_service</th>\n",
       "      <th>Cleanliness</th>\n",
       "      <th>Online_boarding</th>\n",
       "    </tr>\n",
       "  </thead>\n",
       "  <tbody>\n",
       "    <tr>\n",
       "      <th>0</th>\n",
       "      <td>98800001</td>\n",
       "      <td>0</td>\n",
       "      <td>need improvement</td>\n",
       "      <td>Green Car</td>\n",
       "      <td>excellent</td>\n",
       "      <td>excellent</td>\n",
       "      <td>very convinient</td>\n",
       "      <td>good</td>\n",
       "      <td>need improvement</td>\n",
       "      <td>acceptable</td>\n",
       "      <td>need improvement</td>\n",
       "      <td>need improvement</td>\n",
       "      <td>acceptable</td>\n",
       "      <td>need improvement</td>\n",
       "      <td>good</td>\n",
       "      <td>need improvement</td>\n",
       "      <td>poor</td>\n",
       "    </tr>\n",
       "    <tr>\n",
       "      <th>1</th>\n",
       "      <td>98800002</td>\n",
       "      <td>0</td>\n",
       "      <td>poor</td>\n",
       "      <td>Ordinary</td>\n",
       "      <td>excellent</td>\n",
       "      <td>poor</td>\n",
       "      <td>need improvement</td>\n",
       "      <td>good</td>\n",
       "      <td>poor</td>\n",
       "      <td>good</td>\n",
       "      <td>good</td>\n",
       "      <td>excellent</td>\n",
       "      <td>need improvement</td>\n",
       "      <td>poor</td>\n",
       "      <td>need improvement</td>\n",
       "      <td>good</td>\n",
       "      <td>good</td>\n",
       "    </tr>\n",
       "    <tr>\n",
       "      <th>2</th>\n",
       "      <td>98800003</td>\n",
       "      <td>1</td>\n",
       "      <td>need improvement</td>\n",
       "      <td>Green Car</td>\n",
       "      <td>need improvement</td>\n",
       "      <td>need improvement</td>\n",
       "      <td>need improvement</td>\n",
       "      <td>need improvement</td>\n",
       "      <td>good</td>\n",
       "      <td>excellent</td>\n",
       "      <td>excellent</td>\n",
       "      <td>excellent</td>\n",
       "      <td>excellent</td>\n",
       "      <td>excellent</td>\n",
       "      <td>good</td>\n",
       "      <td>excellent</td>\n",
       "      <td>excellent</td>\n",
       "    </tr>\n",
       "    <tr>\n",
       "      <th>3</th>\n",
       "      <td>98800004</td>\n",
       "      <td>0</td>\n",
       "      <td>acceptable</td>\n",
       "      <td>Ordinary</td>\n",
       "      <td>need improvement</td>\n",
       "      <td>NaN</td>\n",
       "      <td>need improvement</td>\n",
       "      <td>acceptable</td>\n",
       "      <td>need improvement</td>\n",
       "      <td>acceptable</td>\n",
       "      <td>acceptable</td>\n",
       "      <td>acceptable</td>\n",
       "      <td>acceptable</td>\n",
       "      <td>acceptable</td>\n",
       "      <td>good</td>\n",
       "      <td>acceptable</td>\n",
       "      <td>acceptable</td>\n",
       "    </tr>\n",
       "    <tr>\n",
       "      <th>4</th>\n",
       "      <td>98800005</td>\n",
       "      <td>1</td>\n",
       "      <td>acceptable</td>\n",
       "      <td>Ordinary</td>\n",
       "      <td>acceptable</td>\n",
       "      <td>acceptable</td>\n",
       "      <td>manageable</td>\n",
       "      <td>need improvement</td>\n",
       "      <td>good</td>\n",
       "      <td>excellent</td>\n",
       "      <td>good</td>\n",
       "      <td>good</td>\n",
       "      <td>good</td>\n",
       "      <td>good</td>\n",
       "      <td>good</td>\n",
       "      <td>good</td>\n",
       "      <td>good</td>\n",
       "    </tr>\n",
       "  </tbody>\n",
       "</table>\n",
       "</div>"
      ],
      "text/plain": [
       "         ID  Overall_Experience      Seat_comfort Seat_Class  \\\n",
       "0  98800001                   0  need improvement  Green Car   \n",
       "1  98800002                   0              poor   Ordinary   \n",
       "2  98800003                   1  need improvement  Green Car   \n",
       "3  98800004                   0        acceptable   Ordinary   \n",
       "4  98800005                   1        acceptable   Ordinary   \n",
       "\n",
       "  Arrival_time_convenient          Catering Platform_location  \\\n",
       "0               excellent         excellent   very convinient   \n",
       "1               excellent              poor  need improvement   \n",
       "2        need improvement  need improvement  need improvement   \n",
       "3        need improvement               NaN  need improvement   \n",
       "4              acceptable        acceptable        manageable   \n",
       "\n",
       "  Onboardwifi_service Onboard_entertainment Online_support Onlinebooking_Ease  \\\n",
       "0                good      need improvement     acceptable   need improvement   \n",
       "1                good                  poor           good               good   \n",
       "2    need improvement                  good      excellent          excellent   \n",
       "3          acceptable      need improvement     acceptable         acceptable   \n",
       "4    need improvement                  good      excellent               good   \n",
       "\n",
       "    Onboard_service          Leg_room  Baggage_handling   Checkin_service  \\\n",
       "0  need improvement        acceptable  need improvement              good   \n",
       "1         excellent  need improvement              poor  need improvement   \n",
       "2         excellent         excellent         excellent              good   \n",
       "3        acceptable        acceptable        acceptable              good   \n",
       "4              good              good              good              good   \n",
       "\n",
       "        Cleanliness Online_boarding  \n",
       "0  need improvement            poor  \n",
       "1              good            good  \n",
       "2         excellent       excellent  \n",
       "3        acceptable      acceptable  \n",
       "4              good            good  "
      ]
     },
     "execution_count": 3,
     "metadata": {},
     "output_type": "execute_result"
    }
   ],
   "source": [
    "df.head()"
   ]
  },
  {
   "cell_type": "code",
   "execution_count": 4,
   "id": "2917a1c5",
   "metadata": {},
   "outputs": [
    {
     "data": {
      "text/plain": [
       "94379"
      ]
     },
     "execution_count": 4,
     "metadata": {},
     "output_type": "execute_result"
    }
   ],
   "source": [
    "len(df)"
   ]
  },
  {
   "cell_type": "code",
   "execution_count": 5,
   "id": "037dbe39",
   "metadata": {},
   "outputs": [
    {
     "data": {
      "text/html": [
       "<div>\n",
       "<style scoped>\n",
       "    .dataframe tbody tr th:only-of-type {\n",
       "        vertical-align: middle;\n",
       "    }\n",
       "\n",
       "    .dataframe tbody tr th {\n",
       "        vertical-align: top;\n",
       "    }\n",
       "\n",
       "    .dataframe thead th {\n",
       "        text-align: right;\n",
       "    }\n",
       "</style>\n",
       "<table border=\"1\" class=\"dataframe\">\n",
       "  <thead>\n",
       "    <tr style=\"text-align: right;\">\n",
       "      <th></th>\n",
       "      <th>ID</th>\n",
       "      <th>Gender</th>\n",
       "      <th>CustomerType</th>\n",
       "      <th>Age</th>\n",
       "      <th>TypeTravel</th>\n",
       "      <th>Travel_Class</th>\n",
       "      <th>Travel_Distance</th>\n",
       "      <th>DepartureDelay_in_Mins</th>\n",
       "      <th>ArrivalDelay_in_Mins</th>\n",
       "    </tr>\n",
       "  </thead>\n",
       "  <tbody>\n",
       "    <tr>\n",
       "      <th>0</th>\n",
       "      <td>98800001</td>\n",
       "      <td>Female</td>\n",
       "      <td>Loyal Customer</td>\n",
       "      <td>52.0</td>\n",
       "      <td>NaN</td>\n",
       "      <td>Business</td>\n",
       "      <td>272</td>\n",
       "      <td>0.0</td>\n",
       "      <td>5.0</td>\n",
       "    </tr>\n",
       "    <tr>\n",
       "      <th>1</th>\n",
       "      <td>98800002</td>\n",
       "      <td>Male</td>\n",
       "      <td>Loyal Customer</td>\n",
       "      <td>48.0</td>\n",
       "      <td>Personal Travel</td>\n",
       "      <td>Eco</td>\n",
       "      <td>2200</td>\n",
       "      <td>9.0</td>\n",
       "      <td>0.0</td>\n",
       "    </tr>\n",
       "    <tr>\n",
       "      <th>2</th>\n",
       "      <td>98800003</td>\n",
       "      <td>Female</td>\n",
       "      <td>Loyal Customer</td>\n",
       "      <td>43.0</td>\n",
       "      <td>Business travel</td>\n",
       "      <td>Business</td>\n",
       "      <td>1061</td>\n",
       "      <td>77.0</td>\n",
       "      <td>119.0</td>\n",
       "    </tr>\n",
       "    <tr>\n",
       "      <th>3</th>\n",
       "      <td>98800004</td>\n",
       "      <td>Female</td>\n",
       "      <td>Loyal Customer</td>\n",
       "      <td>44.0</td>\n",
       "      <td>Business travel</td>\n",
       "      <td>Business</td>\n",
       "      <td>780</td>\n",
       "      <td>13.0</td>\n",
       "      <td>18.0</td>\n",
       "    </tr>\n",
       "    <tr>\n",
       "      <th>4</th>\n",
       "      <td>98800005</td>\n",
       "      <td>Female</td>\n",
       "      <td>Loyal Customer</td>\n",
       "      <td>50.0</td>\n",
       "      <td>Business travel</td>\n",
       "      <td>Business</td>\n",
       "      <td>1981</td>\n",
       "      <td>0.0</td>\n",
       "      <td>0.0</td>\n",
       "    </tr>\n",
       "  </tbody>\n",
       "</table>\n",
       "</div>"
      ],
      "text/plain": [
       "         ID  Gender    CustomerType   Age       TypeTravel Travel_Class  \\\n",
       "0  98800001  Female  Loyal Customer  52.0              NaN     Business   \n",
       "1  98800002    Male  Loyal Customer  48.0  Personal Travel          Eco   \n",
       "2  98800003  Female  Loyal Customer  43.0  Business travel     Business   \n",
       "3  98800004  Female  Loyal Customer  44.0  Business travel     Business   \n",
       "4  98800005  Female  Loyal Customer  50.0  Business travel     Business   \n",
       "\n",
       "   Travel_Distance  DepartureDelay_in_Mins  ArrivalDelay_in_Mins  \n",
       "0              272                     0.0                   5.0  \n",
       "1             2200                     9.0                   0.0  \n",
       "2             1061                    77.0                 119.0  \n",
       "3              780                    13.0                  18.0  \n",
       "4             1981                     0.0                   0.0  "
      ]
     },
     "execution_count": 5,
     "metadata": {},
     "output_type": "execute_result"
    }
   ],
   "source": [
    "df1 = pd.read_csv(\"F:\\\\Traveldata_train_(1).csv\")\n",
    "df1.head()"
   ]
  },
  {
   "cell_type": "code",
   "execution_count": 6,
   "id": "b25aa2fd",
   "metadata": {},
   "outputs": [
    {
     "data": {
      "text/plain": [
       "94379"
      ]
     },
     "execution_count": 6,
     "metadata": {},
     "output_type": "execute_result"
    }
   ],
   "source": [
    "len(df1)"
   ]
  },
  {
   "cell_type": "code",
   "execution_count": 7,
   "id": "c337b8c6",
   "metadata": {
    "scrolled": true
   },
   "outputs": [
    {
     "data": {
      "text/html": [
       "<div>\n",
       "<style scoped>\n",
       "    .dataframe tbody tr th:only-of-type {\n",
       "        vertical-align: middle;\n",
       "    }\n",
       "\n",
       "    .dataframe tbody tr th {\n",
       "        vertical-align: top;\n",
       "    }\n",
       "\n",
       "    .dataframe thead th {\n",
       "        text-align: right;\n",
       "    }\n",
       "</style>\n",
       "<table border=\"1\" class=\"dataframe\">\n",
       "  <thead>\n",
       "    <tr style=\"text-align: right;\">\n",
       "      <th></th>\n",
       "      <th>ID</th>\n",
       "      <th>Overall_Experience</th>\n",
       "      <th>Seat_comfort</th>\n",
       "      <th>Seat_Class</th>\n",
       "      <th>Arrival_time_convenient</th>\n",
       "      <th>Catering</th>\n",
       "      <th>Platform_location</th>\n",
       "      <th>Onboardwifi_service</th>\n",
       "      <th>Onboard_entertainment</th>\n",
       "      <th>Online_support</th>\n",
       "      <th>...</th>\n",
       "      <th>Cleanliness</th>\n",
       "      <th>Online_boarding</th>\n",
       "      <th>Gender</th>\n",
       "      <th>CustomerType</th>\n",
       "      <th>Age</th>\n",
       "      <th>TypeTravel</th>\n",
       "      <th>Travel_Class</th>\n",
       "      <th>Travel_Distance</th>\n",
       "      <th>DepartureDelay_in_Mins</th>\n",
       "      <th>ArrivalDelay_in_Mins</th>\n",
       "    </tr>\n",
       "  </thead>\n",
       "  <tbody>\n",
       "    <tr>\n",
       "      <th>0</th>\n",
       "      <td>98800001</td>\n",
       "      <td>0</td>\n",
       "      <td>need improvement</td>\n",
       "      <td>Green Car</td>\n",
       "      <td>excellent</td>\n",
       "      <td>excellent</td>\n",
       "      <td>very convinient</td>\n",
       "      <td>good</td>\n",
       "      <td>need improvement</td>\n",
       "      <td>acceptable</td>\n",
       "      <td>...</td>\n",
       "      <td>need improvement</td>\n",
       "      <td>poor</td>\n",
       "      <td>Female</td>\n",
       "      <td>Loyal Customer</td>\n",
       "      <td>52.0</td>\n",
       "      <td>NaN</td>\n",
       "      <td>Business</td>\n",
       "      <td>272</td>\n",
       "      <td>0.0</td>\n",
       "      <td>5.0</td>\n",
       "    </tr>\n",
       "    <tr>\n",
       "      <th>1</th>\n",
       "      <td>98800002</td>\n",
       "      <td>0</td>\n",
       "      <td>poor</td>\n",
       "      <td>Ordinary</td>\n",
       "      <td>excellent</td>\n",
       "      <td>poor</td>\n",
       "      <td>need improvement</td>\n",
       "      <td>good</td>\n",
       "      <td>poor</td>\n",
       "      <td>good</td>\n",
       "      <td>...</td>\n",
       "      <td>good</td>\n",
       "      <td>good</td>\n",
       "      <td>Male</td>\n",
       "      <td>Loyal Customer</td>\n",
       "      <td>48.0</td>\n",
       "      <td>Personal Travel</td>\n",
       "      <td>Eco</td>\n",
       "      <td>2200</td>\n",
       "      <td>9.0</td>\n",
       "      <td>0.0</td>\n",
       "    </tr>\n",
       "    <tr>\n",
       "      <th>2</th>\n",
       "      <td>98800003</td>\n",
       "      <td>1</td>\n",
       "      <td>need improvement</td>\n",
       "      <td>Green Car</td>\n",
       "      <td>need improvement</td>\n",
       "      <td>need improvement</td>\n",
       "      <td>need improvement</td>\n",
       "      <td>need improvement</td>\n",
       "      <td>good</td>\n",
       "      <td>excellent</td>\n",
       "      <td>...</td>\n",
       "      <td>excellent</td>\n",
       "      <td>excellent</td>\n",
       "      <td>Female</td>\n",
       "      <td>Loyal Customer</td>\n",
       "      <td>43.0</td>\n",
       "      <td>Business travel</td>\n",
       "      <td>Business</td>\n",
       "      <td>1061</td>\n",
       "      <td>77.0</td>\n",
       "      <td>119.0</td>\n",
       "    </tr>\n",
       "    <tr>\n",
       "      <th>3</th>\n",
       "      <td>98800004</td>\n",
       "      <td>0</td>\n",
       "      <td>acceptable</td>\n",
       "      <td>Ordinary</td>\n",
       "      <td>need improvement</td>\n",
       "      <td>NaN</td>\n",
       "      <td>need improvement</td>\n",
       "      <td>acceptable</td>\n",
       "      <td>need improvement</td>\n",
       "      <td>acceptable</td>\n",
       "      <td>...</td>\n",
       "      <td>acceptable</td>\n",
       "      <td>acceptable</td>\n",
       "      <td>Female</td>\n",
       "      <td>Loyal Customer</td>\n",
       "      <td>44.0</td>\n",
       "      <td>Business travel</td>\n",
       "      <td>Business</td>\n",
       "      <td>780</td>\n",
       "      <td>13.0</td>\n",
       "      <td>18.0</td>\n",
       "    </tr>\n",
       "    <tr>\n",
       "      <th>4</th>\n",
       "      <td>98800005</td>\n",
       "      <td>1</td>\n",
       "      <td>acceptable</td>\n",
       "      <td>Ordinary</td>\n",
       "      <td>acceptable</td>\n",
       "      <td>acceptable</td>\n",
       "      <td>manageable</td>\n",
       "      <td>need improvement</td>\n",
       "      <td>good</td>\n",
       "      <td>excellent</td>\n",
       "      <td>...</td>\n",
       "      <td>good</td>\n",
       "      <td>good</td>\n",
       "      <td>Female</td>\n",
       "      <td>Loyal Customer</td>\n",
       "      <td>50.0</td>\n",
       "      <td>Business travel</td>\n",
       "      <td>Business</td>\n",
       "      <td>1981</td>\n",
       "      <td>0.0</td>\n",
       "      <td>0.0</td>\n",
       "    </tr>\n",
       "    <tr>\n",
       "      <th>...</th>\n",
       "      <td>...</td>\n",
       "      <td>...</td>\n",
       "      <td>...</td>\n",
       "      <td>...</td>\n",
       "      <td>...</td>\n",
       "      <td>...</td>\n",
       "      <td>...</td>\n",
       "      <td>...</td>\n",
       "      <td>...</td>\n",
       "      <td>...</td>\n",
       "      <td>...</td>\n",
       "      <td>...</td>\n",
       "      <td>...</td>\n",
       "      <td>...</td>\n",
       "      <td>...</td>\n",
       "      <td>...</td>\n",
       "      <td>...</td>\n",
       "      <td>...</td>\n",
       "      <td>...</td>\n",
       "      <td>...</td>\n",
       "      <td>...</td>\n",
       "    </tr>\n",
       "    <tr>\n",
       "      <th>94374</th>\n",
       "      <td>98894375</td>\n",
       "      <td>0</td>\n",
       "      <td>poor</td>\n",
       "      <td>Ordinary</td>\n",
       "      <td>good</td>\n",
       "      <td>good</td>\n",
       "      <td>Convinient</td>\n",
       "      <td>poor</td>\n",
       "      <td>poor</td>\n",
       "      <td>poor</td>\n",
       "      <td>...</td>\n",
       "      <td>good</td>\n",
       "      <td>poor</td>\n",
       "      <td>Male</td>\n",
       "      <td>Loyal Customer</td>\n",
       "      <td>32.0</td>\n",
       "      <td>Business travel</td>\n",
       "      <td>Business</td>\n",
       "      <td>1357</td>\n",
       "      <td>83.0</td>\n",
       "      <td>125.0</td>\n",
       "    </tr>\n",
       "    <tr>\n",
       "      <th>94375</th>\n",
       "      <td>98894376</td>\n",
       "      <td>1</td>\n",
       "      <td>good</td>\n",
       "      <td>Ordinary</td>\n",
       "      <td>good</td>\n",
       "      <td>good</td>\n",
       "      <td>Convinient</td>\n",
       "      <td>need improvement</td>\n",
       "      <td>excellent</td>\n",
       "      <td>excellent</td>\n",
       "      <td>...</td>\n",
       "      <td>acceptable</td>\n",
       "      <td>good</td>\n",
       "      <td>Male</td>\n",
       "      <td>Loyal Customer</td>\n",
       "      <td>44.0</td>\n",
       "      <td>Business travel</td>\n",
       "      <td>Business</td>\n",
       "      <td>592</td>\n",
       "      <td>5.0</td>\n",
       "      <td>11.0</td>\n",
       "    </tr>\n",
       "    <tr>\n",
       "      <th>94376</th>\n",
       "      <td>98894377</td>\n",
       "      <td>1</td>\n",
       "      <td>need improvement</td>\n",
       "      <td>Green Car</td>\n",
       "      <td>need improvement</td>\n",
       "      <td>need improvement</td>\n",
       "      <td>need improvement</td>\n",
       "      <td>good</td>\n",
       "      <td>excellent</td>\n",
       "      <td>good</td>\n",
       "      <td>...</td>\n",
       "      <td>good</td>\n",
       "      <td>acceptable</td>\n",
       "      <td>Male</td>\n",
       "      <td>NaN</td>\n",
       "      <td>63.0</td>\n",
       "      <td>Business travel</td>\n",
       "      <td>Business</td>\n",
       "      <td>2794</td>\n",
       "      <td>0.0</td>\n",
       "      <td>0.0</td>\n",
       "    </tr>\n",
       "    <tr>\n",
       "      <th>94377</th>\n",
       "      <td>98894378</td>\n",
       "      <td>0</td>\n",
       "      <td>need improvement</td>\n",
       "      <td>Ordinary</td>\n",
       "      <td>NaN</td>\n",
       "      <td>need improvement</td>\n",
       "      <td>Convinient</td>\n",
       "      <td>good</td>\n",
       "      <td>need improvement</td>\n",
       "      <td>good</td>\n",
       "      <td>...</td>\n",
       "      <td>excellent</td>\n",
       "      <td>good</td>\n",
       "      <td>Male</td>\n",
       "      <td>Loyal Customer</td>\n",
       "      <td>16.0</td>\n",
       "      <td>Personal Travel</td>\n",
       "      <td>Eco</td>\n",
       "      <td>2744</td>\n",
       "      <td>0.0</td>\n",
       "      <td>0.0</td>\n",
       "    </tr>\n",
       "    <tr>\n",
       "      <th>94378</th>\n",
       "      <td>98894379</td>\n",
       "      <td>0</td>\n",
       "      <td>acceptable</td>\n",
       "      <td>Ordinary</td>\n",
       "      <td>poor</td>\n",
       "      <td>acceptable</td>\n",
       "      <td>manageable</td>\n",
       "      <td>acceptable</td>\n",
       "      <td>acceptable</td>\n",
       "      <td>acceptable</td>\n",
       "      <td>...</td>\n",
       "      <td>good</td>\n",
       "      <td>acceptable</td>\n",
       "      <td>Male</td>\n",
       "      <td>Loyal Customer</td>\n",
       "      <td>54.0</td>\n",
       "      <td>NaN</td>\n",
       "      <td>Eco</td>\n",
       "      <td>2107</td>\n",
       "      <td>28.0</td>\n",
       "      <td>28.0</td>\n",
       "    </tr>\n",
       "  </tbody>\n",
       "</table>\n",
       "<p>94379 rows × 25 columns</p>\n",
       "</div>"
      ],
      "text/plain": [
       "             ID  Overall_Experience      Seat_comfort Seat_Class  \\\n",
       "0      98800001                   0  need improvement  Green Car   \n",
       "1      98800002                   0              poor   Ordinary   \n",
       "2      98800003                   1  need improvement  Green Car   \n",
       "3      98800004                   0        acceptable   Ordinary   \n",
       "4      98800005                   1        acceptable   Ordinary   \n",
       "...         ...                 ...               ...        ...   \n",
       "94374  98894375                   0              poor   Ordinary   \n",
       "94375  98894376                   1              good   Ordinary   \n",
       "94376  98894377                   1  need improvement  Green Car   \n",
       "94377  98894378                   0  need improvement   Ordinary   \n",
       "94378  98894379                   0        acceptable   Ordinary   \n",
       "\n",
       "      Arrival_time_convenient          Catering Platform_location  \\\n",
       "0                   excellent         excellent   very convinient   \n",
       "1                   excellent              poor  need improvement   \n",
       "2            need improvement  need improvement  need improvement   \n",
       "3            need improvement               NaN  need improvement   \n",
       "4                  acceptable        acceptable        manageable   \n",
       "...                       ...               ...               ...   \n",
       "94374                    good              good        Convinient   \n",
       "94375                    good              good        Convinient   \n",
       "94376        need improvement  need improvement  need improvement   \n",
       "94377                     NaN  need improvement        Convinient   \n",
       "94378                    poor        acceptable        manageable   \n",
       "\n",
       "      Onboardwifi_service Onboard_entertainment Online_support  ...  \\\n",
       "0                    good      need improvement     acceptable  ...   \n",
       "1                    good                  poor           good  ...   \n",
       "2        need improvement                  good      excellent  ...   \n",
       "3              acceptable      need improvement     acceptable  ...   \n",
       "4        need improvement                  good      excellent  ...   \n",
       "...                   ...                   ...            ...  ...   \n",
       "94374                poor                  poor           poor  ...   \n",
       "94375    need improvement             excellent      excellent  ...   \n",
       "94376                good             excellent           good  ...   \n",
       "94377                good      need improvement           good  ...   \n",
       "94378          acceptable            acceptable     acceptable  ...   \n",
       "\n",
       "            Cleanliness Online_boarding  Gender    CustomerType   Age  \\\n",
       "0      need improvement            poor  Female  Loyal Customer  52.0   \n",
       "1                  good            good    Male  Loyal Customer  48.0   \n",
       "2             excellent       excellent  Female  Loyal Customer  43.0   \n",
       "3            acceptable      acceptable  Female  Loyal Customer  44.0   \n",
       "4                  good            good  Female  Loyal Customer  50.0   \n",
       "...                 ...             ...     ...             ...   ...   \n",
       "94374              good            poor    Male  Loyal Customer  32.0   \n",
       "94375        acceptable            good    Male  Loyal Customer  44.0   \n",
       "94376              good      acceptable    Male             NaN  63.0   \n",
       "94377         excellent            good    Male  Loyal Customer  16.0   \n",
       "94378              good      acceptable    Male  Loyal Customer  54.0   \n",
       "\n",
       "            TypeTravel Travel_Class Travel_Distance DepartureDelay_in_Mins  \\\n",
       "0                  NaN     Business             272                    0.0   \n",
       "1      Personal Travel          Eco            2200                    9.0   \n",
       "2      Business travel     Business            1061                   77.0   \n",
       "3      Business travel     Business             780                   13.0   \n",
       "4      Business travel     Business            1981                    0.0   \n",
       "...                ...          ...             ...                    ...   \n",
       "94374  Business travel     Business            1357                   83.0   \n",
       "94375  Business travel     Business             592                    5.0   \n",
       "94376  Business travel     Business            2794                    0.0   \n",
       "94377  Personal Travel          Eco            2744                    0.0   \n",
       "94378              NaN          Eco            2107                   28.0   \n",
       "\n",
       "       ArrivalDelay_in_Mins  \n",
       "0                       5.0  \n",
       "1                       0.0  \n",
       "2                     119.0  \n",
       "3                      18.0  \n",
       "4                       0.0  \n",
       "...                     ...  \n",
       "94374                 125.0  \n",
       "94375                  11.0  \n",
       "94376                   0.0  \n",
       "94377                   0.0  \n",
       "94378                  28.0  \n",
       "\n",
       "[94379 rows x 25 columns]"
      ]
     },
     "execution_count": 7,
     "metadata": {},
     "output_type": "execute_result"
    }
   ],
   "source": [
    "final_df = pd.merge(df,df1,on='ID',how = 'left')\n",
    "final_df"
   ]
  },
  {
   "cell_type": "code",
   "execution_count": 8,
   "id": "b3bf7aac",
   "metadata": {
    "scrolled": true
   },
   "outputs": [
    {
     "name": "stdout",
     "output_type": "stream",
     "text": [
      "<class 'pandas.core.frame.DataFrame'>\n",
      "Int64Index: 94379 entries, 0 to 94378\n",
      "Data columns (total 25 columns):\n",
      " #   Column                   Non-Null Count  Dtype  \n",
      "---  ------                   --------------  -----  \n",
      " 0   ID                       94379 non-null  int64  \n",
      " 1   Overall_Experience       94379 non-null  int64  \n",
      " 2   Seat_comfort             94318 non-null  object \n",
      " 3   Seat_Class               94379 non-null  object \n",
      " 4   Arrival_time_convenient  85449 non-null  object \n",
      " 5   Catering                 85638 non-null  object \n",
      " 6   Platform_location        94349 non-null  object \n",
      " 7   Onboardwifi_service      94349 non-null  object \n",
      " 8   Onboard_entertainment    94361 non-null  object \n",
      " 9   Online_support           94288 non-null  object \n",
      " 10  Onlinebooking_Ease       94306 non-null  object \n",
      " 11  Onboard_service          86778 non-null  object \n",
      " 12  Leg_room                 94289 non-null  object \n",
      " 13  Baggage_handling         94237 non-null  object \n",
      " 14  Checkin_service          94302 non-null  object \n",
      " 15  Cleanliness              94373 non-null  object \n",
      " 16  Online_boarding          94373 non-null  object \n",
      " 17  Gender                   94302 non-null  object \n",
      " 18  CustomerType             85428 non-null  object \n",
      " 19  Age                      94346 non-null  float64\n",
      " 20  TypeTravel               85153 non-null  object \n",
      " 21  Travel_Class             94379 non-null  object \n",
      " 22  Travel_Distance          94379 non-null  int64  \n",
      " 23  DepartureDelay_in_Mins   94322 non-null  float64\n",
      " 24  ArrivalDelay_in_Mins     94022 non-null  float64\n",
      "dtypes: float64(3), int64(3), object(19)\n",
      "memory usage: 18.7+ MB\n"
     ]
    }
   ],
   "source": [
    "final_df.info()"
   ]
  },
  {
   "cell_type": "code",
   "execution_count": 9,
   "id": "b037850c",
   "metadata": {
    "scrolled": true
   },
   "outputs": [
    {
     "data": {
      "text/plain": [
       "ID                            0\n",
       "Overall_Experience            0\n",
       "Seat_comfort                 61\n",
       "Seat_Class                    0\n",
       "Arrival_time_convenient    8930\n",
       "Catering                   8741\n",
       "Platform_location            30\n",
       "Onboardwifi_service          30\n",
       "Onboard_entertainment        18\n",
       "Online_support               91\n",
       "Onlinebooking_Ease           73\n",
       "Onboard_service            7601\n",
       "Leg_room                     90\n",
       "Baggage_handling            142\n",
       "Checkin_service              77\n",
       "Cleanliness                   6\n",
       "Online_boarding               6\n",
       "Gender                       77\n",
       "CustomerType               8951\n",
       "Age                          33\n",
       "TypeTravel                 9226\n",
       "Travel_Class                  0\n",
       "Travel_Distance               0\n",
       "DepartureDelay_in_Mins       57\n",
       "ArrivalDelay_in_Mins        357\n",
       "dtype: int64"
      ]
     },
     "execution_count": 9,
     "metadata": {},
     "output_type": "execute_result"
    }
   ],
   "source": [
    "final_df.isnull().sum()"
   ]
  },
  {
   "cell_type": "code",
   "execution_count": 10,
   "id": "b8ac56cb",
   "metadata": {
    "scrolled": true
   },
   "outputs": [
    {
     "data": {
      "text/plain": [
       "array(['need improvement', 'poor', 'acceptable', 'good', 'excellent',\n",
       "       'extremely poor', nan], dtype=object)"
      ]
     },
     "execution_count": 10,
     "metadata": {},
     "output_type": "execute_result"
    }
   ],
   "source": [
    "final_df['Seat_comfort'].unique()"
   ]
  },
  {
   "cell_type": "code",
   "execution_count": 11,
   "id": "04d193fd",
   "metadata": {
    "scrolled": true
   },
   "outputs": [
    {
     "data": {
      "text/plain": [
       "'acceptable'"
      ]
     },
     "execution_count": 11,
     "metadata": {},
     "output_type": "execute_result"
    }
   ],
   "source": [
    "final_df['Seat_comfort'].mode()[0]"
   ]
  },
  {
   "cell_type": "code",
   "execution_count": 12,
   "id": "60f6f06e",
   "metadata": {
    "scrolled": true
   },
   "outputs": [],
   "source": [
    "final_df['Seat_comfort']=final_df['Seat_comfort'].fillna(final_df['Seat_comfort'].mode()[0])"
   ]
  },
  {
   "cell_type": "code",
   "execution_count": 13,
   "id": "f8722137",
   "metadata": {
    "scrolled": true
   },
   "outputs": [],
   "source": [
    "final_df['Seat_comfort']=final_df['Seat_comfort'].map({'extremely poor':0,'poor':1,'need improvement':2,'acceptable':3,'good':4,'excellent':5})"
   ]
  },
  {
   "cell_type": "code",
   "execution_count": 14,
   "id": "e819f3f1",
   "metadata": {
    "scrolled": false
   },
   "outputs": [
    {
     "data": {
      "text/plain": [
       "array(['excellent', 'need improvement', 'acceptable', nan, 'good', 'poor',\n",
       "       'extremely poor'], dtype=object)"
      ]
     },
     "execution_count": 14,
     "metadata": {},
     "output_type": "execute_result"
    }
   ],
   "source": [
    "final_df['Arrival_time_convenient'].unique()"
   ]
  },
  {
   "cell_type": "code",
   "execution_count": 15,
   "id": "9f227274",
   "metadata": {},
   "outputs": [],
   "source": [
    "final_df['Arrival_time_convenient']=final_df['Arrival_time_convenient'].map({'extremely poor':0,'poor':1,'need improvement':2,'acceptable':3,'good':4,'excellent':5})"
   ]
  },
  {
   "cell_type": "code",
   "execution_count": 16,
   "id": "b34ebd48",
   "metadata": {},
   "outputs": [],
   "source": [
    "final_df['Arrival_time_convenient']=final_df['Arrival_time_convenient'].fillna(final_df['Arrival_time_convenient'].mode()[0])"
   ]
  },
  {
   "cell_type": "code",
   "execution_count": 17,
   "id": "ac6e35ba",
   "metadata": {
    "scrolled": true
   },
   "outputs": [
    {
     "data": {
      "text/plain": [
       "array(['excellent', 'poor', 'need improvement', nan, 'acceptable', 'good',\n",
       "       'extremely poor'], dtype=object)"
      ]
     },
     "execution_count": 17,
     "metadata": {},
     "output_type": "execute_result"
    }
   ],
   "source": [
    "final_df['Catering'].unique()"
   ]
  },
  {
   "cell_type": "code",
   "execution_count": 18,
   "id": "23c9b51a",
   "metadata": {},
   "outputs": [],
   "source": [
    "final_df['Catering']=final_df['Catering'].fillna(final_df['Catering'].mode()[0])"
   ]
  },
  {
   "cell_type": "code",
   "execution_count": 19,
   "id": "9bfdb912",
   "metadata": {},
   "outputs": [],
   "source": [
    "final_df['Catering']=final_df['Catering'].map({'extremely poor':0,'poor':1,'need improvement':2,'acceptable':3,'good':4,'excellent':5})"
   ]
  },
  {
   "cell_type": "code",
   "execution_count": 20,
   "id": "812d8713",
   "metadata": {
    "scrolled": true
   },
   "outputs": [
    {
     "data": {
      "text/plain": [
       "array(['very convinient', 'need improvement', 'manageable',\n",
       "       'Inconvinient', 'Convinient', nan, 'very inconvinient'],\n",
       "      dtype=object)"
      ]
     },
     "execution_count": 20,
     "metadata": {},
     "output_type": "execute_result"
    }
   ],
   "source": [
    "final_df['Platform_location'].unique()"
   ]
  },
  {
   "cell_type": "code",
   "execution_count": 21,
   "id": "43551598",
   "metadata": {},
   "outputs": [],
   "source": [
    "final_df['Platform_location']=final_df['Platform_location'].fillna(final_df['Platform_location'].mode()[0])"
   ]
  },
  {
   "cell_type": "code",
   "execution_count": 22,
   "id": "bd8fac30",
   "metadata": {},
   "outputs": [],
   "source": [
    "final_df['Platform_location']=final_df['Platform_location'].map({'very inconvinient':0,'Inconvinient':1,'need improvement':2,'manageable':3,'Convinient':4,'very convinient':5})"
   ]
  },
  {
   "cell_type": "code",
   "execution_count": 23,
   "id": "d965aaf7",
   "metadata": {
    "scrolled": false
   },
   "outputs": [
    {
     "data": {
      "text/plain": [
       "array(['good', 'need improvement', 'acceptable', 'excellent', 'poor',\n",
       "       'extremely poor', nan], dtype=object)"
      ]
     },
     "execution_count": 23,
     "metadata": {},
     "output_type": "execute_result"
    }
   ],
   "source": [
    "final_df['Onboardwifi_service'].unique()"
   ]
  },
  {
   "cell_type": "code",
   "execution_count": 24,
   "id": "8055074b",
   "metadata": {},
   "outputs": [],
   "source": [
    "final_df['Onboardwifi_service']=final_df['Onboardwifi_service'].fillna(final_df['Onboardwifi_service'].mode()[0])"
   ]
  },
  {
   "cell_type": "code",
   "execution_count": 25,
   "id": "bfbb3ee6",
   "metadata": {},
   "outputs": [],
   "source": [
    "final_df['Onboardwifi_service']=final_df['Onboardwifi_service'].map({'extremely poor':0,'poor':1,'need improvement':2,'acceptable':3,'good':4,'excellent':5})"
   ]
  },
  {
   "cell_type": "code",
   "execution_count": 26,
   "id": "155ffab8",
   "metadata": {},
   "outputs": [
    {
     "data": {
      "text/plain": [
       "array(['need improvement', 'poor', 'good', 'excellent', 'acceptable',\n",
       "       'extremely poor', nan], dtype=object)"
      ]
     },
     "execution_count": 26,
     "metadata": {},
     "output_type": "execute_result"
    }
   ],
   "source": [
    "final_df['Onboard_entertainment'].unique()"
   ]
  },
  {
   "cell_type": "code",
   "execution_count": 27,
   "id": "d36e3482",
   "metadata": {},
   "outputs": [],
   "source": [
    "final_df['Onboard_entertainment']=final_df['Onboard_entertainment'].fillna(final_df['Onboard_entertainment'].mode()[0])"
   ]
  },
  {
   "cell_type": "code",
   "execution_count": 28,
   "id": "8abee642",
   "metadata": {},
   "outputs": [],
   "source": [
    "final_df['Onboard_entertainment']=final_df['Onboard_entertainment'].map({'extremely poor':0,'poor':1,'need improvement':2,'acceptable':3,'good':4,'excellent':5})"
   ]
  },
  {
   "cell_type": "code",
   "execution_count": 29,
   "id": "8c5b00fe",
   "metadata": {},
   "outputs": [
    {
     "data": {
      "text/plain": [
       "array(['acceptable', 'good', 'excellent', 'poor', nan, 'need improvement',\n",
       "       'extremely poor'], dtype=object)"
      ]
     },
     "execution_count": 29,
     "metadata": {},
     "output_type": "execute_result"
    }
   ],
   "source": [
    "final_df['Online_support'].unique()"
   ]
  },
  {
   "cell_type": "code",
   "execution_count": 30,
   "id": "8c0f655f",
   "metadata": {},
   "outputs": [],
   "source": [
    "final_df['Online_support']=final_df['Online_support'].fillna(final_df['Online_support'].mode()[0])"
   ]
  },
  {
   "cell_type": "code",
   "execution_count": 31,
   "id": "5514311c",
   "metadata": {},
   "outputs": [],
   "source": [
    "final_df['Online_support']=final_df['Online_support'].map({'extremely poor':0,'poor':1,'need improvement':2,'acceptable':3,'good':4,'excellent':5})"
   ]
  },
  {
   "cell_type": "code",
   "execution_count": 32,
   "id": "138bba9f",
   "metadata": {
    "scrolled": true
   },
   "outputs": [
    {
     "data": {
      "text/plain": [
       "array(['need improvement', 'good', 'excellent', 'acceptable', 'poor', nan,\n",
       "       'extremely poor'], dtype=object)"
      ]
     },
     "execution_count": 32,
     "metadata": {},
     "output_type": "execute_result"
    }
   ],
   "source": [
    "final_df['Onlinebooking_Ease'].unique()"
   ]
  },
  {
   "cell_type": "code",
   "execution_count": 33,
   "id": "a484cc1e",
   "metadata": {},
   "outputs": [],
   "source": [
    "final_df['Onlinebooking_Ease']=final_df['Onlinebooking_Ease'].fillna(final_df['Onlinebooking_Ease'].mode()[0])"
   ]
  },
  {
   "cell_type": "code",
   "execution_count": 34,
   "id": "70158390",
   "metadata": {},
   "outputs": [],
   "source": [
    "final_df['Onlinebooking_Ease']=final_df['Onlinebooking_Ease'].map({'extremely poor':0,'poor':1,'need improvement':2,'acceptable':3,'good':4,'excellent':5})"
   ]
  },
  {
   "cell_type": "code",
   "execution_count": 35,
   "id": "139dfa8e",
   "metadata": {
    "scrolled": true
   },
   "outputs": [
    {
     "data": {
      "text/plain": [
       "array(['need improvement', 'excellent', 'acceptable', 'good', 'poor', nan,\n",
       "       'extremely poor'], dtype=object)"
      ]
     },
     "execution_count": 35,
     "metadata": {},
     "output_type": "execute_result"
    }
   ],
   "source": [
    "final_df['Onboard_service'].unique()"
   ]
  },
  {
   "cell_type": "code",
   "execution_count": 36,
   "id": "7c10d302",
   "metadata": {},
   "outputs": [],
   "source": [
    "final_df['Onboard_service']=final_df['Onboard_service'].fillna(final_df['Onboard_service'].mode()[0])"
   ]
  },
  {
   "cell_type": "code",
   "execution_count": 37,
   "id": "27f1b582",
   "metadata": {},
   "outputs": [],
   "source": [
    "final_df['Onboard_service']=final_df['Onboard_service'].map({'extremely poor':0,'poor':1,'need improvement':2,'acceptable':3,'good':4,'excellent':5})"
   ]
  },
  {
   "cell_type": "code",
   "execution_count": 38,
   "id": "58aa478c",
   "metadata": {},
   "outputs": [
    {
     "data": {
      "text/plain": [
       "array(['acceptable', 'need improvement', 'excellent', 'good', 'poor',\n",
       "       'extremely poor', nan], dtype=object)"
      ]
     },
     "execution_count": 38,
     "metadata": {},
     "output_type": "execute_result"
    }
   ],
   "source": [
    "final_df['Leg_room'].unique()"
   ]
  },
  {
   "cell_type": "code",
   "execution_count": 39,
   "id": "4b140cb0",
   "metadata": {},
   "outputs": [],
   "source": [
    "final_df['Leg_room']=final_df['Leg_room'].fillna(final_df['Leg_room'].mode()[0])"
   ]
  },
  {
   "cell_type": "code",
   "execution_count": 40,
   "id": "ace7664e",
   "metadata": {},
   "outputs": [],
   "source": [
    "final_df['Leg_room']=final_df['Leg_room'].map({'extremely poor':0,'poor':1,'need improvement':2,'acceptable':3,'good':4,'excellent':5})"
   ]
  },
  {
   "cell_type": "code",
   "execution_count": 41,
   "id": "c95e3b7b",
   "metadata": {},
   "outputs": [
    {
     "data": {
      "text/plain": [
       "array(['need improvement', 'poor', 'excellent', 'acceptable', 'good', nan],\n",
       "      dtype=object)"
      ]
     },
     "execution_count": 41,
     "metadata": {},
     "output_type": "execute_result"
    }
   ],
   "source": [
    "final_df['Baggage_handling'].unique()"
   ]
  },
  {
   "cell_type": "code",
   "execution_count": 42,
   "id": "07a398f5",
   "metadata": {},
   "outputs": [],
   "source": [
    "final_df['Baggage_handling']=final_df['Baggage_handling'].fillna(final_df['Baggage_handling'].mode()[0])"
   ]
  },
  {
   "cell_type": "code",
   "execution_count": 43,
   "id": "a409d8b2",
   "metadata": {},
   "outputs": [],
   "source": [
    "final_df['Baggage_handling']=final_df['Baggage_handling'].map({'poor':0,'need improvement':1,'acceptable':2,'good':3,'excellent':4})"
   ]
  },
  {
   "cell_type": "code",
   "execution_count": 44,
   "id": "4e41cb55",
   "metadata": {},
   "outputs": [
    {
     "data": {
      "text/plain": [
       "array(['good', 'need improvement', 'acceptable', 'excellent', 'poor', nan,\n",
       "       'extremely poor'], dtype=object)"
      ]
     },
     "execution_count": 44,
     "metadata": {},
     "output_type": "execute_result"
    }
   ],
   "source": [
    "final_df['Checkin_service'].unique()"
   ]
  },
  {
   "cell_type": "code",
   "execution_count": 45,
   "id": "10400723",
   "metadata": {},
   "outputs": [],
   "source": [
    "final_df['Checkin_service']=final_df['Checkin_service'].fillna(final_df['Checkin_service'].mode()[0])"
   ]
  },
  {
   "cell_type": "code",
   "execution_count": 46,
   "id": "58efa921",
   "metadata": {},
   "outputs": [],
   "source": [
    "final_df['Checkin_service']=final_df['Checkin_service'].map({'extremely poor':0,'poor':1,'need improvement':2,'acceptable':3,'good':4,'excellent':5})"
   ]
  },
  {
   "cell_type": "code",
   "execution_count": 47,
   "id": "c9653dd2",
   "metadata": {},
   "outputs": [
    {
     "data": {
      "text/plain": [
       "array(['Loyal Customer', 'disloyal Customer', nan], dtype=object)"
      ]
     },
     "execution_count": 47,
     "metadata": {},
     "output_type": "execute_result"
    }
   ],
   "source": [
    "final_df['CustomerType'].unique()"
   ]
  },
  {
   "cell_type": "code",
   "execution_count": 48,
   "id": "a8c2cd52",
   "metadata": {},
   "outputs": [],
   "source": [
    "final_df['CustomerType']=final_df['CustomerType'].fillna(final_df['CustomerType'].mode()[0])"
   ]
  },
  {
   "cell_type": "code",
   "execution_count": 49,
   "id": "619365e5",
   "metadata": {},
   "outputs": [],
   "source": [
    "final_df['CustomerType']=final_df['CustomerType'].map({'disloyal Customer':0,'Loyal Customer':1})"
   ]
  },
  {
   "cell_type": "code",
   "execution_count": 50,
   "id": "c7c7fb56",
   "metadata": {
    "scrolled": false
   },
   "outputs": [
    {
     "data": {
      "text/plain": [
       "array(['need improvement', 'good', 'excellent', 'acceptable', 'poor',\n",
       "       'extremely poor', nan], dtype=object)"
      ]
     },
     "execution_count": 50,
     "metadata": {},
     "output_type": "execute_result"
    }
   ],
   "source": [
    "final_df['Cleanliness'].unique()"
   ]
  },
  {
   "cell_type": "code",
   "execution_count": 51,
   "id": "b4af79d2",
   "metadata": {},
   "outputs": [],
   "source": [
    "final_df['Cleanliness']=final_df['Cleanliness'].fillna(final_df['Cleanliness'].mode()[0])"
   ]
  },
  {
   "cell_type": "code",
   "execution_count": 52,
   "id": "053bc62e",
   "metadata": {},
   "outputs": [],
   "source": [
    "final_df['Cleanliness']=final_df['Cleanliness'].map({'extremely poor':0,'poor':1,'need improvement':2,'acceptable':3,'good':4,'excellent':5})"
   ]
  },
  {
   "cell_type": "code",
   "execution_count": 53,
   "id": "5a2e4601",
   "metadata": {
    "scrolled": true
   },
   "outputs": [
    {
     "data": {
      "text/plain": [
       "array(['poor', 'good', 'excellent', 'acceptable', 'need improvement', nan,\n",
       "       'extremely poor'], dtype=object)"
      ]
     },
     "execution_count": 53,
     "metadata": {},
     "output_type": "execute_result"
    }
   ],
   "source": [
    "final_df['Online_boarding'].unique()"
   ]
  },
  {
   "cell_type": "code",
   "execution_count": 54,
   "id": "8b2ad896",
   "metadata": {},
   "outputs": [],
   "source": [
    "final_df['Online_boarding']=final_df['Online_boarding'].fillna(final_df['Online_boarding'].mode()[0])"
   ]
  },
  {
   "cell_type": "code",
   "execution_count": 55,
   "id": "6d7c7593",
   "metadata": {},
   "outputs": [],
   "source": [
    "final_df['Online_boarding']=final_df['Online_boarding'].map({'extremely poor':0,'poor':1,'need improvement':2,'acceptable':3,'good':4,'excellent':5})"
   ]
  },
  {
   "cell_type": "code",
   "execution_count": 56,
   "id": "195003d6",
   "metadata": {
    "scrolled": false
   },
   "outputs": [
    {
     "data": {
      "text/plain": [
       "array(['Female', 'Male', nan], dtype=object)"
      ]
     },
     "execution_count": 56,
     "metadata": {},
     "output_type": "execute_result"
    }
   ],
   "source": [
    "final_df['Gender'].unique()"
   ]
  },
  {
   "cell_type": "code",
   "execution_count": 57,
   "id": "56a99d0b",
   "metadata": {},
   "outputs": [],
   "source": [
    "final_df['Gender']=final_df['Gender'].fillna(final_df['Gender'].mode()[0])"
   ]
  },
  {
   "cell_type": "code",
   "execution_count": 58,
   "id": "32bbe6b2",
   "metadata": {},
   "outputs": [],
   "source": [
    "final_df['Gender']=final_df['Gender'].map({'Female':0,'Male':1})"
   ]
  },
  {
   "cell_type": "code",
   "execution_count": 59,
   "id": "bf60baf6",
   "metadata": {
    "scrolled": true
   },
   "outputs": [
    {
     "data": {
      "text/plain": [
       "array([52., 48., 43., 44., 50., 56., 65., 22., 57., 25., 26., 47., 33.,\n",
       "       54.,  9., 68., 24., 23., 10., 55., 36., 62., 39., 29., 76., 30.,\n",
       "       41.,  7., 32., 46., 35., 38., 61., 49., 21., 34., 27., 18., 37.,\n",
       "       45., 63., 42., 13., 60., 64., 73., 20., 40., 58., 28., 19., 59.,\n",
       "       31., 53., 17., 77., 69., 16., 70., 51., 66., 67., 14., 11., 12.,\n",
       "        8., 71., 15., 80., 72., 85., nan, 74., 75., 79., 78.])"
      ]
     },
     "execution_count": 59,
     "metadata": {},
     "output_type": "execute_result"
    }
   ],
   "source": [
    "final_df['Age'].unique()"
   ]
  },
  {
   "cell_type": "code",
   "execution_count": 60,
   "id": "5266c753",
   "metadata": {},
   "outputs": [],
   "source": [
    "final_df['Age']=final_df['Age'].fillna(final_df['Age'].mode()[0])"
   ]
  },
  {
   "cell_type": "code",
   "execution_count": 61,
   "id": "302b2a60",
   "metadata": {},
   "outputs": [
    {
     "data": {
      "text/plain": [
       "array([nan, 'Personal Travel', 'Business travel'], dtype=object)"
      ]
     },
     "execution_count": 61,
     "metadata": {},
     "output_type": "execute_result"
    }
   ],
   "source": [
    "final_df['TypeTravel'].unique()"
   ]
  },
  {
   "cell_type": "code",
   "execution_count": 62,
   "id": "aee72412",
   "metadata": {},
   "outputs": [],
   "source": [
    "final_df['TypeTravel']=final_df['TypeTravel'].fillna(final_df['TypeTravel'].mode()[0])"
   ]
  },
  {
   "cell_type": "code",
   "execution_count": 63,
   "id": "5c1f8406",
   "metadata": {},
   "outputs": [],
   "source": [
    "final_df['TypeTravel']=final_df['TypeTravel'].map({'Personal Travel':0,'Business travel':1})"
   ]
  },
  {
   "cell_type": "code",
   "execution_count": 64,
   "id": "6542355e",
   "metadata": {},
   "outputs": [
    {
     "data": {
      "text/plain": [
       "array(['Green Car', 'Ordinary'], dtype=object)"
      ]
     },
     "execution_count": 64,
     "metadata": {},
     "output_type": "execute_result"
    }
   ],
   "source": [
    "final_df['Seat_Class'].unique()"
   ]
  },
  {
   "cell_type": "code",
   "execution_count": 65,
   "id": "058e1c51",
   "metadata": {},
   "outputs": [],
   "source": [
    "final_df['Seat_Class']=final_df['Seat_Class'].map({'Ordinary':0,'Green Car':1})"
   ]
  },
  {
   "cell_type": "code",
   "execution_count": 66,
   "id": "fe9e245e",
   "metadata": {
    "scrolled": true
   },
   "outputs": [
    {
     "data": {
      "text/plain": [
       "ID                           0\n",
       "Overall_Experience           0\n",
       "Seat_comfort                 0\n",
       "Seat_Class                   0\n",
       "Arrival_time_convenient      0\n",
       "Catering                     0\n",
       "Platform_location            0\n",
       "Onboardwifi_service          0\n",
       "Onboard_entertainment        0\n",
       "Online_support               0\n",
       "Onlinebooking_Ease           0\n",
       "Onboard_service              0\n",
       "Leg_room                     0\n",
       "Baggage_handling             0\n",
       "Checkin_service              0\n",
       "Cleanliness                  0\n",
       "Online_boarding              0\n",
       "Gender                       0\n",
       "CustomerType                 0\n",
       "Age                          0\n",
       "TypeTravel                   0\n",
       "Travel_Class                 0\n",
       "Travel_Distance              0\n",
       "DepartureDelay_in_Mins      57\n",
       "ArrivalDelay_in_Mins       357\n",
       "dtype: int64"
      ]
     },
     "execution_count": 66,
     "metadata": {},
     "output_type": "execute_result"
    }
   ],
   "source": [
    "final_df.isnull().sum()"
   ]
  },
  {
   "cell_type": "code",
   "execution_count": 67,
   "id": "e4facecf",
   "metadata": {},
   "outputs": [
    {
     "data": {
      "text/plain": [
       "array(['Business', 'Eco'], dtype=object)"
      ]
     },
     "execution_count": 67,
     "metadata": {},
     "output_type": "execute_result"
    }
   ],
   "source": [
    "final_df['Travel_Class'].unique()"
   ]
  },
  {
   "cell_type": "code",
   "execution_count": 68,
   "id": "60f3b39b",
   "metadata": {},
   "outputs": [],
   "source": [
    "final_df['Travel_Class']=final_df['Travel_Class'].map({'Business':0,'Eco':1})"
   ]
  },
  {
   "cell_type": "code",
   "execution_count": 69,
   "id": "5dff6f15",
   "metadata": {
    "scrolled": true
   },
   "outputs": [
    {
     "name": "stderr",
     "output_type": "stream",
     "text": [
      "C:\\ProgramData\\Anaconda3\\lib\\site-packages\\seaborn\\_decorators.py:36: FutureWarning: Pass the following variable as a keyword arg: x. From version 0.12, the only valid positional argument will be `data`, and passing other arguments without an explicit keyword will result in an error or misinterpretation.\n",
      "  warnings.warn(\n"
     ]
    },
    {
     "data": {
      "text/plain": [
       "<AxesSubplot:xlabel='Overall_Experience', ylabel='count'>"
      ]
     },
     "execution_count": 69,
     "metadata": {},
     "output_type": "execute_result"
    },
    {
     "data": {
      "image/png": "[encoded data removed]",
      "text/plain": [
       "<Figure size 640x480 with 1 Axes>"
      ]
     },
     "metadata": {},
     "output_type": "display_data"
    }
   ],
   "source": [
    "sns.countplot(df['Overall_Experience'])"
   ]
  },
  {
   "cell_type": "markdown",
   "id": "20669927",
   "metadata": {},
   "source": [
    "# encoding"
   ]
  },
  {
   "cell_type": "code",
   "execution_count": 70,
   "id": "74e46915",
   "metadata": {},
   "outputs": [
    {
     "data": {
      "text/html": [
       "<div>\n",
       "<style scoped>\n",
       "    .dataframe tbody tr th:only-of-type {\n",
       "        vertical-align: middle;\n",
       "    }\n",
       "\n",
       "    .dataframe tbody tr th {\n",
       "        vertical-align: top;\n",
       "    }\n",
       "\n",
       "    .dataframe thead th {\n",
       "        text-align: right;\n",
       "    }\n",
       "</style>\n",
       "<table border=\"1\" class=\"dataframe\">\n",
       "  <thead>\n",
       "    <tr style=\"text-align: right;\">\n",
       "      <th></th>\n",
       "      <th>ID</th>\n",
       "      <th>Overall_Experience</th>\n",
       "      <th>Seat_comfort</th>\n",
       "      <th>Seat_Class</th>\n",
       "      <th>Arrival_time_convenient</th>\n",
       "      <th>Catering</th>\n",
       "      <th>Platform_location</th>\n",
       "      <th>Onboardwifi_service</th>\n",
       "      <th>Onboard_entertainment</th>\n",
       "      <th>Online_support</th>\n",
       "      <th>...</th>\n",
       "      <th>Cleanliness</th>\n",
       "      <th>Online_boarding</th>\n",
       "      <th>Gender</th>\n",
       "      <th>CustomerType</th>\n",
       "      <th>Age</th>\n",
       "      <th>TypeTravel</th>\n",
       "      <th>Travel_Class</th>\n",
       "      <th>Travel_Distance</th>\n",
       "      <th>DepartureDelay_in_Mins</th>\n",
       "      <th>ArrivalDelay_in_Mins</th>\n",
       "    </tr>\n",
       "  </thead>\n",
       "  <tbody>\n",
       "    <tr>\n",
       "      <th>0</th>\n",
       "      <td>98800001</td>\n",
       "      <td>0</td>\n",
       "      <td>2</td>\n",
       "      <td>1</td>\n",
       "      <td>5.0</td>\n",
       "      <td>5</td>\n",
       "      <td>5</td>\n",
       "      <td>4</td>\n",
       "      <td>2</td>\n",
       "      <td>3</td>\n",
       "      <td>...</td>\n",
       "      <td>2</td>\n",
       "      <td>1</td>\n",
       "      <td>0</td>\n",
       "      <td>1</td>\n",
       "      <td>52.0</td>\n",
       "      <td>1</td>\n",
       "      <td>0</td>\n",
       "      <td>272</td>\n",
       "      <td>0.0</td>\n",
       "      <td>5.0</td>\n",
       "    </tr>\n",
       "    <tr>\n",
       "      <th>1</th>\n",
       "      <td>98800002</td>\n",
       "      <td>0</td>\n",
       "      <td>1</td>\n",
       "      <td>0</td>\n",
       "      <td>5.0</td>\n",
       "      <td>1</td>\n",
       "      <td>2</td>\n",
       "      <td>4</td>\n",
       "      <td>1</td>\n",
       "      <td>4</td>\n",
       "      <td>...</td>\n",
       "      <td>4</td>\n",
       "      <td>4</td>\n",
       "      <td>1</td>\n",
       "      <td>1</td>\n",
       "      <td>48.0</td>\n",
       "      <td>0</td>\n",
       "      <td>1</td>\n",
       "      <td>2200</td>\n",
       "      <td>9.0</td>\n",
       "      <td>0.0</td>\n",
       "    </tr>\n",
       "    <tr>\n",
       "      <th>2</th>\n",
       "      <td>98800003</td>\n",
       "      <td>1</td>\n",
       "      <td>2</td>\n",
       "      <td>1</td>\n",
       "      <td>2.0</td>\n",
       "      <td>2</td>\n",
       "      <td>2</td>\n",
       "      <td>2</td>\n",
       "      <td>4</td>\n",
       "      <td>5</td>\n",
       "      <td>...</td>\n",
       "      <td>5</td>\n",
       "      <td>5</td>\n",
       "      <td>0</td>\n",
       "      <td>1</td>\n",
       "      <td>43.0</td>\n",
       "      <td>1</td>\n",
       "      <td>0</td>\n",
       "      <td>1061</td>\n",
       "      <td>77.0</td>\n",
       "      <td>119.0</td>\n",
       "    </tr>\n",
       "    <tr>\n",
       "      <th>3</th>\n",
       "      <td>98800004</td>\n",
       "      <td>0</td>\n",
       "      <td>3</td>\n",
       "      <td>0</td>\n",
       "      <td>2.0</td>\n",
       "      <td>3</td>\n",
       "      <td>2</td>\n",
       "      <td>3</td>\n",
       "      <td>2</td>\n",
       "      <td>3</td>\n",
       "      <td>...</td>\n",
       "      <td>3</td>\n",
       "      <td>3</td>\n",
       "      <td>0</td>\n",
       "      <td>1</td>\n",
       "      <td>44.0</td>\n",
       "      <td>1</td>\n",
       "      <td>0</td>\n",
       "      <td>780</td>\n",
       "      <td>13.0</td>\n",
       "      <td>18.0</td>\n",
       "    </tr>\n",
       "    <tr>\n",
       "      <th>4</th>\n",
       "      <td>98800005</td>\n",
       "      <td>1</td>\n",
       "      <td>3</td>\n",
       "      <td>0</td>\n",
       "      <td>3.0</td>\n",
       "      <td>3</td>\n",
       "      <td>3</td>\n",
       "      <td>2</td>\n",
       "      <td>4</td>\n",
       "      <td>5</td>\n",
       "      <td>...</td>\n",
       "      <td>4</td>\n",
       "      <td>4</td>\n",
       "      <td>0</td>\n",
       "      <td>1</td>\n",
       "      <td>50.0</td>\n",
       "      <td>1</td>\n",
       "      <td>0</td>\n",
       "      <td>1981</td>\n",
       "      <td>0.0</td>\n",
       "      <td>0.0</td>\n",
       "    </tr>\n",
       "    <tr>\n",
       "      <th>...</th>\n",
       "      <td>...</td>\n",
       "      <td>...</td>\n",
       "      <td>...</td>\n",
       "      <td>...</td>\n",
       "      <td>...</td>\n",
       "      <td>...</td>\n",
       "      <td>...</td>\n",
       "      <td>...</td>\n",
       "      <td>...</td>\n",
       "      <td>...</td>\n",
       "      <td>...</td>\n",
       "      <td>...</td>\n",
       "      <td>...</td>\n",
       "      <td>...</td>\n",
       "      <td>...</td>\n",
       "      <td>...</td>\n",
       "      <td>...</td>\n",
       "      <td>...</td>\n",
       "      <td>...</td>\n",
       "      <td>...</td>\n",
       "      <td>...</td>\n",
       "    </tr>\n",
       "    <tr>\n",
       "      <th>94374</th>\n",
       "      <td>98894375</td>\n",
       "      <td>0</td>\n",
       "      <td>1</td>\n",
       "      <td>0</td>\n",
       "      <td>4.0</td>\n",
       "      <td>4</td>\n",
       "      <td>4</td>\n",
       "      <td>1</td>\n",
       "      <td>1</td>\n",
       "      <td>1</td>\n",
       "      <td>...</td>\n",
       "      <td>4</td>\n",
       "      <td>1</td>\n",
       "      <td>1</td>\n",
       "      <td>1</td>\n",
       "      <td>32.0</td>\n",
       "      <td>1</td>\n",
       "      <td>0</td>\n",
       "      <td>1357</td>\n",
       "      <td>83.0</td>\n",
       "      <td>125.0</td>\n",
       "    </tr>\n",
       "    <tr>\n",
       "      <th>94375</th>\n",
       "      <td>98894376</td>\n",
       "      <td>1</td>\n",
       "      <td>4</td>\n",
       "      <td>0</td>\n",
       "      <td>4.0</td>\n",
       "      <td>4</td>\n",
       "      <td>4</td>\n",
       "      <td>2</td>\n",
       "      <td>5</td>\n",
       "      <td>5</td>\n",
       "      <td>...</td>\n",
       "      <td>3</td>\n",
       "      <td>4</td>\n",
       "      <td>1</td>\n",
       "      <td>1</td>\n",
       "      <td>44.0</td>\n",
       "      <td>1</td>\n",
       "      <td>0</td>\n",
       "      <td>592</td>\n",
       "      <td>5.0</td>\n",
       "      <td>11.0</td>\n",
       "    </tr>\n",
       "    <tr>\n",
       "      <th>94376</th>\n",
       "      <td>98894377</td>\n",
       "      <td>1</td>\n",
       "      <td>2</td>\n",
       "      <td>1</td>\n",
       "      <td>2.0</td>\n",
       "      <td>2</td>\n",
       "      <td>2</td>\n",
       "      <td>4</td>\n",
       "      <td>5</td>\n",
       "      <td>4</td>\n",
       "      <td>...</td>\n",
       "      <td>4</td>\n",
       "      <td>3</td>\n",
       "      <td>1</td>\n",
       "      <td>1</td>\n",
       "      <td>63.0</td>\n",
       "      <td>1</td>\n",
       "      <td>0</td>\n",
       "      <td>2794</td>\n",
       "      <td>0.0</td>\n",
       "      <td>0.0</td>\n",
       "    </tr>\n",
       "    <tr>\n",
       "      <th>94377</th>\n",
       "      <td>98894378</td>\n",
       "      <td>0</td>\n",
       "      <td>2</td>\n",
       "      <td>0</td>\n",
       "      <td>4.0</td>\n",
       "      <td>2</td>\n",
       "      <td>4</td>\n",
       "      <td>4</td>\n",
       "      <td>2</td>\n",
       "      <td>4</td>\n",
       "      <td>...</td>\n",
       "      <td>5</td>\n",
       "      <td>4</td>\n",
       "      <td>1</td>\n",
       "      <td>1</td>\n",
       "      <td>16.0</td>\n",
       "      <td>0</td>\n",
       "      <td>1</td>\n",
       "      <td>2744</td>\n",
       "      <td>0.0</td>\n",
       "      <td>0.0</td>\n",
       "    </tr>\n",
       "    <tr>\n",
       "      <th>94378</th>\n",
       "      <td>98894379</td>\n",
       "      <td>0</td>\n",
       "      <td>3</td>\n",
       "      <td>0</td>\n",
       "      <td>1.0</td>\n",
       "      <td>3</td>\n",
       "      <td>3</td>\n",
       "      <td>3</td>\n",
       "      <td>3</td>\n",
       "      <td>3</td>\n",
       "      <td>...</td>\n",
       "      <td>4</td>\n",
       "      <td>3</td>\n",
       "      <td>1</td>\n",
       "      <td>1</td>\n",
       "      <td>54.0</td>\n",
       "      <td>1</td>\n",
       "      <td>1</td>\n",
       "      <td>2107</td>\n",
       "      <td>28.0</td>\n",
       "      <td>28.0</td>\n",
       "    </tr>\n",
       "  </tbody>\n",
       "</table>\n",
       "<p>94379 rows × 25 columns</p>\n",
       "</div>"
      ],
      "text/plain": [
       "             ID  Overall_Experience  Seat_comfort  Seat_Class  \\\n",
       "0      98800001                   0             2           1   \n",
       "1      98800002                   0             1           0   \n",
       "2      98800003                   1             2           1   \n",
       "3      98800004                   0             3           0   \n",
       "4      98800005                   1             3           0   \n",
       "...         ...                 ...           ...         ...   \n",
       "94374  98894375                   0             1           0   \n",
       "94375  98894376                   1             4           0   \n",
       "94376  98894377                   1             2           1   \n",
       "94377  98894378                   0             2           0   \n",
       "94378  98894379                   0             3           0   \n",
       "\n",
       "       Arrival_time_convenient  Catering  Platform_location  \\\n",
       "0                          5.0         5                  5   \n",
       "1                          5.0         1                  2   \n",
       "2                          2.0         2                  2   \n",
       "3                          2.0         3                  2   \n",
       "4                          3.0         3                  3   \n",
       "...                        ...       ...                ...   \n",
       "94374                      4.0         4                  4   \n",
       "94375                      4.0         4                  4   \n",
       "94376                      2.0         2                  2   \n",
       "94377                      4.0         2                  4   \n",
       "94378                      1.0         3                  3   \n",
       "\n",
       "       Onboardwifi_service  Onboard_entertainment  Online_support  ...  \\\n",
       "0                        4                      2               3  ...   \n",
       "1                        4                      1               4  ...   \n",
       "2                        2                      4               5  ...   \n",
       "3                        3                      2               3  ...   \n",
       "4                        2                      4               5  ...   \n",
       "...                    ...                    ...             ...  ...   \n",
       "94374                    1                      1               1  ...   \n",
       "94375                    2                      5               5  ...   \n",
       "94376                    4                      5               4  ...   \n",
       "94377                    4                      2               4  ...   \n",
       "94378                    3                      3               3  ...   \n",
       "\n",
       "       Cleanliness  Online_boarding  Gender  CustomerType   Age  TypeTravel  \\\n",
       "0                2                1       0             1  52.0           1   \n",
       "1                4                4       1             1  48.0           0   \n",
       "2                5                5       0             1  43.0           1   \n",
       "3                3                3       0             1  44.0           1   \n",
       "4                4                4       0             1  50.0           1   \n",
       "...            ...              ...     ...           ...   ...         ...   \n",
       "94374            4                1       1             1  32.0           1   \n",
       "94375            3                4       1             1  44.0           1   \n",
       "94376            4                3       1             1  63.0           1   \n",
       "94377            5                4       1             1  16.0           0   \n",
       "94378            4                3       1             1  54.0           1   \n",
       "\n",
       "       Travel_Class  Travel_Distance  DepartureDelay_in_Mins  \\\n",
       "0                 0              272                     0.0   \n",
       "1                 1             2200                     9.0   \n",
       "2                 0             1061                    77.0   \n",
       "3                 0              780                    13.0   \n",
       "4                 0             1981                     0.0   \n",
       "...             ...              ...                     ...   \n",
       "94374             0             1357                    83.0   \n",
       "94375             0              592                     5.0   \n",
       "94376             0             2794                     0.0   \n",
       "94377             1             2744                     0.0   \n",
       "94378             1             2107                    28.0   \n",
       "\n",
       "       ArrivalDelay_in_Mins  \n",
       "0                       5.0  \n",
       "1                       0.0  \n",
       "2                     119.0  \n",
       "3                      18.0  \n",
       "4                       0.0  \n",
       "...                     ...  \n",
       "94374                 125.0  \n",
       "94375                  11.0  \n",
       "94376                   0.0  \n",
       "94377                   0.0  \n",
       "94378                  28.0  \n",
       "\n",
       "[94379 rows x 25 columns]"
      ]
     },
     "execution_count": 70,
     "metadata": {},
     "output_type": "execute_result"
    }
   ],
   "source": [
    "final_df"
   ]
  },
  {
   "cell_type": "code",
   "execution_count": 71,
   "id": "5867c6ae",
   "metadata": {
    "scrolled": true
   },
   "outputs": [
    {
     "data": {
      "text/plain": [
       "Index(['ID', 'Overall_Experience', 'Seat_comfort', 'Seat_Class',\n",
       "       'Arrival_time_convenient', 'Catering', 'Platform_location',\n",
       "       'Onboardwifi_service', 'Onboard_entertainment', 'Online_support',\n",
       "       'Onlinebooking_Ease', 'Onboard_service', 'Leg_room', 'Baggage_handling',\n",
       "       'Checkin_service', 'Cleanliness', 'Online_boarding', 'Gender',\n",
       "       'CustomerType', 'Age', 'TypeTravel', 'Travel_Class', 'Travel_Distance',\n",
       "       'DepartureDelay_in_Mins', 'ArrivalDelay_in_Mins'],\n",
       "      dtype='object')"
      ]
     },
     "execution_count": 71,
     "metadata": {},
     "output_type": "execute_result"
    }
   ],
   "source": [
    "final_df.columns"
   ]
  },
  {
   "cell_type": "code",
   "execution_count": 73,
   "id": "a43c738b",
   "metadata": {
    "scrolled": true
   },
   "outputs": [
    {
     "data": {
      "text/html": [
       "<div>\n",
       "<style scoped>\n",
       "    .dataframe tbody tr th:only-of-type {\n",
       "        vertical-align: middle;\n",
       "    }\n",
       "\n",
       "    .dataframe tbody tr th {\n",
       "        vertical-align: top;\n",
       "    }\n",
       "\n",
       "    .dataframe thead th {\n",
       "        text-align: right;\n",
       "    }\n",
       "</style>\n",
       "<table border=\"1\" class=\"dataframe\">\n",
       "  <thead>\n",
       "    <tr style=\"text-align: right;\">\n",
       "      <th></th>\n",
       "      <th>ID</th>\n",
       "      <th>Overall_Experience</th>\n",
       "      <th>Seat_comfort</th>\n",
       "      <th>Seat_Class</th>\n",
       "      <th>Arrival_time_convenient</th>\n",
       "      <th>Catering</th>\n",
       "      <th>Platform_location</th>\n",
       "      <th>Onboardwifi_service</th>\n",
       "      <th>Onboard_entertainment</th>\n",
       "      <th>Online_support</th>\n",
       "      <th>...</th>\n",
       "      <th>Cleanliness</th>\n",
       "      <th>Online_boarding</th>\n",
       "      <th>Gender</th>\n",
       "      <th>CustomerType</th>\n",
       "      <th>Age</th>\n",
       "      <th>TypeTravel</th>\n",
       "      <th>Travel_Class</th>\n",
       "      <th>Travel_Distance</th>\n",
       "      <th>DepartureDelay_in_Mins</th>\n",
       "      <th>ArrivalDelay_in_Mins</th>\n",
       "    </tr>\n",
       "  </thead>\n",
       "  <tbody>\n",
       "    <tr>\n",
       "      <th>0</th>\n",
       "      <td>98800001</td>\n",
       "      <td>0</td>\n",
       "      <td>2</td>\n",
       "      <td>1</td>\n",
       "      <td>5.0</td>\n",
       "      <td>5</td>\n",
       "      <td>5</td>\n",
       "      <td>4</td>\n",
       "      <td>2</td>\n",
       "      <td>3</td>\n",
       "      <td>...</td>\n",
       "      <td>2</td>\n",
       "      <td>1</td>\n",
       "      <td>0</td>\n",
       "      <td>1</td>\n",
       "      <td>52.0</td>\n",
       "      <td>1</td>\n",
       "      <td>0</td>\n",
       "      <td>272</td>\n",
       "      <td>0.0</td>\n",
       "      <td>5.0</td>\n",
       "    </tr>\n",
       "    <tr>\n",
       "      <th>1</th>\n",
       "      <td>98800002</td>\n",
       "      <td>0</td>\n",
       "      <td>1</td>\n",
       "      <td>0</td>\n",
       "      <td>5.0</td>\n",
       "      <td>1</td>\n",
       "      <td>2</td>\n",
       "      <td>4</td>\n",
       "      <td>1</td>\n",
       "      <td>4</td>\n",
       "      <td>...</td>\n",
       "      <td>4</td>\n",
       "      <td>4</td>\n",
       "      <td>1</td>\n",
       "      <td>1</td>\n",
       "      <td>48.0</td>\n",
       "      <td>0</td>\n",
       "      <td>1</td>\n",
       "      <td>2200</td>\n",
       "      <td>9.0</td>\n",
       "      <td>0.0</td>\n",
       "    </tr>\n",
       "    <tr>\n",
       "      <th>2</th>\n",
       "      <td>98800003</td>\n",
       "      <td>1</td>\n",
       "      <td>2</td>\n",
       "      <td>1</td>\n",
       "      <td>2.0</td>\n",
       "      <td>2</td>\n",
       "      <td>2</td>\n",
       "      <td>2</td>\n",
       "      <td>4</td>\n",
       "      <td>5</td>\n",
       "      <td>...</td>\n",
       "      <td>5</td>\n",
       "      <td>5</td>\n",
       "      <td>0</td>\n",
       "      <td>1</td>\n",
       "      <td>43.0</td>\n",
       "      <td>1</td>\n",
       "      <td>0</td>\n",
       "      <td>1061</td>\n",
       "      <td>77.0</td>\n",
       "      <td>119.0</td>\n",
       "    </tr>\n",
       "    <tr>\n",
       "      <th>3</th>\n",
       "      <td>98800004</td>\n",
       "      <td>0</td>\n",
       "      <td>3</td>\n",
       "      <td>0</td>\n",
       "      <td>2.0</td>\n",
       "      <td>3</td>\n",
       "      <td>2</td>\n",
       "      <td>3</td>\n",
       "      <td>2</td>\n",
       "      <td>3</td>\n",
       "      <td>...</td>\n",
       "      <td>3</td>\n",
       "      <td>3</td>\n",
       "      <td>0</td>\n",
       "      <td>1</td>\n",
       "      <td>44.0</td>\n",
       "      <td>1</td>\n",
       "      <td>0</td>\n",
       "      <td>780</td>\n",
       "      <td>13.0</td>\n",
       "      <td>18.0</td>\n",
       "    </tr>\n",
       "    <tr>\n",
       "      <th>4</th>\n",
       "      <td>98800005</td>\n",
       "      <td>1</td>\n",
       "      <td>3</td>\n",
       "      <td>0</td>\n",
       "      <td>3.0</td>\n",
       "      <td>3</td>\n",
       "      <td>3</td>\n",
       "      <td>2</td>\n",
       "      <td>4</td>\n",
       "      <td>5</td>\n",
       "      <td>...</td>\n",
       "      <td>4</td>\n",
       "      <td>4</td>\n",
       "      <td>0</td>\n",
       "      <td>1</td>\n",
       "      <td>50.0</td>\n",
       "      <td>1</td>\n",
       "      <td>0</td>\n",
       "      <td>1981</td>\n",
       "      <td>0.0</td>\n",
       "      <td>0.0</td>\n",
       "    </tr>\n",
       "    <tr>\n",
       "      <th>...</th>\n",
       "      <td>...</td>\n",
       "      <td>...</td>\n",
       "      <td>...</td>\n",
       "      <td>...</td>\n",
       "      <td>...</td>\n",
       "      <td>...</td>\n",
       "      <td>...</td>\n",
       "      <td>...</td>\n",
       "      <td>...</td>\n",
       "      <td>...</td>\n",
       "      <td>...</td>\n",
       "      <td>...</td>\n",
       "      <td>...</td>\n",
       "      <td>...</td>\n",
       "      <td>...</td>\n",
       "      <td>...</td>\n",
       "      <td>...</td>\n",
       "      <td>...</td>\n",
       "      <td>...</td>\n",
       "      <td>...</td>\n",
       "      <td>...</td>\n",
       "    </tr>\n",
       "    <tr>\n",
       "      <th>94374</th>\n",
       "      <td>98894375</td>\n",
       "      <td>0</td>\n",
       "      <td>1</td>\n",
       "      <td>0</td>\n",
       "      <td>4.0</td>\n",
       "      <td>4</td>\n",
       "      <td>4</td>\n",
       "      <td>1</td>\n",
       "      <td>1</td>\n",
       "      <td>1</td>\n",
       "      <td>...</td>\n",
       "      <td>4</td>\n",
       "      <td>1</td>\n",
       "      <td>1</td>\n",
       "      <td>1</td>\n",
       "      <td>32.0</td>\n",
       "      <td>1</td>\n",
       "      <td>0</td>\n",
       "      <td>1357</td>\n",
       "      <td>83.0</td>\n",
       "      <td>125.0</td>\n",
       "    </tr>\n",
       "    <tr>\n",
       "      <th>94375</th>\n",
       "      <td>98894376</td>\n",
       "      <td>1</td>\n",
       "      <td>4</td>\n",
       "      <td>0</td>\n",
       "      <td>4.0</td>\n",
       "      <td>4</td>\n",
       "      <td>4</td>\n",
       "      <td>2</td>\n",
       "      <td>5</td>\n",
       "      <td>5</td>\n",
       "      <td>...</td>\n",
       "      <td>3</td>\n",
       "      <td>4</td>\n",
       "      <td>1</td>\n",
       "      <td>1</td>\n",
       "      <td>44.0</td>\n",
       "      <td>1</td>\n",
       "      <td>0</td>\n",
       "      <td>592</td>\n",
       "      <td>5.0</td>\n",
       "      <td>11.0</td>\n",
       "    </tr>\n",
       "    <tr>\n",
       "      <th>94376</th>\n",
       "      <td>98894377</td>\n",
       "      <td>1</td>\n",
       "      <td>2</td>\n",
       "      <td>1</td>\n",
       "      <td>2.0</td>\n",
       "      <td>2</td>\n",
       "      <td>2</td>\n",
       "      <td>4</td>\n",
       "      <td>5</td>\n",
       "      <td>4</td>\n",
       "      <td>...</td>\n",
       "      <td>4</td>\n",
       "      <td>3</td>\n",
       "      <td>1</td>\n",
       "      <td>1</td>\n",
       "      <td>63.0</td>\n",
       "      <td>1</td>\n",
       "      <td>0</td>\n",
       "      <td>2794</td>\n",
       "      <td>0.0</td>\n",
       "      <td>0.0</td>\n",
       "    </tr>\n",
       "    <tr>\n",
       "      <th>94377</th>\n",
       "      <td>98894378</td>\n",
       "      <td>0</td>\n",
       "      <td>2</td>\n",
       "      <td>0</td>\n",
       "      <td>4.0</td>\n",
       "      <td>2</td>\n",
       "      <td>4</td>\n",
       "      <td>4</td>\n",
       "      <td>2</td>\n",
       "      <td>4</td>\n",
       "      <td>...</td>\n",
       "      <td>5</td>\n",
       "      <td>4</td>\n",
       "      <td>1</td>\n",
       "      <td>1</td>\n",
       "      <td>16.0</td>\n",
       "      <td>0</td>\n",
       "      <td>1</td>\n",
       "      <td>2744</td>\n",
       "      <td>0.0</td>\n",
       "      <td>0.0</td>\n",
       "    </tr>\n",
       "    <tr>\n",
       "      <th>94378</th>\n",
       "      <td>98894379</td>\n",
       "      <td>0</td>\n",
       "      <td>3</td>\n",
       "      <td>0</td>\n",
       "      <td>1.0</td>\n",
       "      <td>3</td>\n",
       "      <td>3</td>\n",
       "      <td>3</td>\n",
       "      <td>3</td>\n",
       "      <td>3</td>\n",
       "      <td>...</td>\n",
       "      <td>4</td>\n",
       "      <td>3</td>\n",
       "      <td>1</td>\n",
       "      <td>1</td>\n",
       "      <td>54.0</td>\n",
       "      <td>1</td>\n",
       "      <td>1</td>\n",
       "      <td>2107</td>\n",
       "      <td>28.0</td>\n",
       "      <td>28.0</td>\n",
       "    </tr>\n",
       "  </tbody>\n",
       "</table>\n",
       "<p>94379 rows × 25 columns</p>\n",
       "</div>"
      ],
      "text/plain": [
       "             ID  Overall_Experience  Seat_comfort  Seat_Class  \\\n",
       "0      98800001                   0             2           1   \n",
       "1      98800002                   0             1           0   \n",
       "2      98800003                   1             2           1   \n",
       "3      98800004                   0             3           0   \n",
       "4      98800005                   1             3           0   \n",
       "...         ...                 ...           ...         ...   \n",
       "94374  98894375                   0             1           0   \n",
       "94375  98894376                   1             4           0   \n",
       "94376  98894377                   1             2           1   \n",
       "94377  98894378                   0             2           0   \n",
       "94378  98894379                   0             3           0   \n",
       "\n",
       "       Arrival_time_convenient  Catering  Platform_location  \\\n",
       "0                          5.0         5                  5   \n",
       "1                          5.0         1                  2   \n",
       "2                          2.0         2                  2   \n",
       "3                          2.0         3                  2   \n",
       "4                          3.0         3                  3   \n",
       "...                        ...       ...                ...   \n",
       "94374                      4.0         4                  4   \n",
       "94375                      4.0         4                  4   \n",
       "94376                      2.0         2                  2   \n",
       "94377                      4.0         2                  4   \n",
       "94378                      1.0         3                  3   \n",
       "\n",
       "       Onboardwifi_service  Onboard_entertainment  Online_support  ...  \\\n",
       "0                        4                      2               3  ...   \n",
       "1                        4                      1               4  ...   \n",
       "2                        2                      4               5  ...   \n",
       "3                        3                      2               3  ...   \n",
       "4                        2                      4               5  ...   \n",
       "...                    ...                    ...             ...  ...   \n",
       "94374                    1                      1               1  ...   \n",
       "94375                    2                      5               5  ...   \n",
       "94376                    4                      5               4  ...   \n",
       "94377                    4                      2               4  ...   \n",
       "94378                    3                      3               3  ...   \n",
       "\n",
       "       Cleanliness  Online_boarding  Gender  CustomerType   Age  TypeTravel  \\\n",
       "0                2                1       0             1  52.0           1   \n",
       "1                4                4       1             1  48.0           0   \n",
       "2                5                5       0             1  43.0           1   \n",
       "3                3                3       0             1  44.0           1   \n",
       "4                4                4       0             1  50.0           1   \n",
       "...            ...              ...     ...           ...   ...         ...   \n",
       "94374            4                1       1             1  32.0           1   \n",
       "94375            3                4       1             1  44.0           1   \n",
       "94376            4                3       1             1  63.0           1   \n",
       "94377            5                4       1             1  16.0           0   \n",
       "94378            4                3       1             1  54.0           1   \n",
       "\n",
       "       Travel_Class  Travel_Distance  DepartureDelay_in_Mins  \\\n",
       "0                 0              272                     0.0   \n",
       "1                 1             2200                     9.0   \n",
       "2                 0             1061                    77.0   \n",
       "3                 0              780                    13.0   \n",
       "4                 0             1981                     0.0   \n",
       "...             ...              ...                     ...   \n",
       "94374             0             1357                    83.0   \n",
       "94375             0              592                     5.0   \n",
       "94376             0             2794                     0.0   \n",
       "94377             1             2744                     0.0   \n",
       "94378             1             2107                    28.0   \n",
       "\n",
       "       ArrivalDelay_in_Mins  \n",
       "0                       5.0  \n",
       "1                       0.0  \n",
       "2                     119.0  \n",
       "3                      18.0  \n",
       "4                       0.0  \n",
       "...                     ...  \n",
       "94374                 125.0  \n",
       "94375                  11.0  \n",
       "94376                   0.0  \n",
       "94377                   0.0  \n",
       "94378                  28.0  \n",
       "\n",
       "[94379 rows x 25 columns]"
      ]
     },
     "execution_count": 73,
     "metadata": {},
     "output_type": "execute_result"
    }
   ],
   "source": [
    "final_df"
   ]
  },
  {
   "cell_type": "code",
   "execution_count": 74,
   "id": "0fae7ff8",
   "metadata": {
    "scrolled": true
   },
   "outputs": [],
   "source": [
    "final_df.drop(['ID'],axis=1,inplace=True)"
   ]
  },
  {
   "cell_type": "code",
   "execution_count": 75,
   "id": "b681c881",
   "metadata": {},
   "outputs": [],
   "source": [
    "final_df.drop(['DepartureDelay_in_Mins'],axis=1,inplace=True)"
   ]
  },
  {
   "cell_type": "code",
   "execution_count": 76,
   "id": "f33fcd7a",
   "metadata": {},
   "outputs": [],
   "source": [
    "final_df.drop(['ArrivalDelay_in_Mins'],axis=1,inplace=True)"
   ]
  },
  {
   "cell_type": "code",
   "execution_count": 77,
   "id": "d625e698",
   "metadata": {
    "scrolled": true
   },
   "outputs": [
    {
     "name": "stdout",
     "output_type": "stream",
     "text": [
      "<class 'pandas.core.frame.DataFrame'>\n",
      "Int64Index: 94379 entries, 0 to 94378\n",
      "Data columns (total 22 columns):\n",
      " #   Column                   Non-Null Count  Dtype  \n",
      "---  ------                   --------------  -----  \n",
      " 0   Overall_Experience       94379 non-null  int64  \n",
      " 1   Seat_comfort             94379 non-null  int64  \n",
      " 2   Seat_Class               94379 non-null  int64  \n",
      " 3   Arrival_time_convenient  94379 non-null  float64\n",
      " 4   Catering                 94379 non-null  int64  \n",
      " 5   Platform_location        94379 non-null  int64  \n",
      " 6   Onboardwifi_service      94379 non-null  int64  \n",
      " 7   Onboard_entertainment    94379 non-null  int64  \n",
      " 8   Online_support           94379 non-null  int64  \n",
      " 9   Onlinebooking_Ease       94379 non-null  int64  \n",
      " 10  Onboard_service          94379 non-null  int64  \n",
      " 11  Leg_room                 94379 non-null  int64  \n",
      " 12  Baggage_handling         94379 non-null  int64  \n",
      " 13  Checkin_service          94379 non-null  int64  \n",
      " 14  Cleanliness              94379 non-null  int64  \n",
      " 15  Online_boarding          94379 non-null  int64  \n",
      " 16  Gender                   94379 non-null  int64  \n",
      " 17  CustomerType             94379 non-null  int64  \n",
      " 18  Age                      94379 non-null  float64\n",
      " 19  TypeTravel               94379 non-null  int64  \n",
      " 20  Travel_Class             94379 non-null  int64  \n",
      " 21  Travel_Distance          94379 non-null  int64  \n",
      "dtypes: float64(2), int64(20)\n",
      "memory usage: 16.6 MB\n"
     ]
    }
   ],
   "source": [
    "final_df.info()"
   ]
  },
  {
   "cell_type": "code",
   "execution_count": 78,
   "id": "b04114ed",
   "metadata": {},
   "outputs": [],
   "source": [
    "X = final_df.iloc[:,1:]"
   ]
  },
  {
   "cell_type": "code",
   "execution_count": 79,
   "id": "7f21ad0b",
   "metadata": {},
   "outputs": [
    {
     "data": {
      "text/html": [
       "<div>\n",
       "<style scoped>\n",
       "    .dataframe tbody tr th:only-of-type {\n",
       "        vertical-align: middle;\n",
       "    }\n",
       "\n",
       "    .dataframe tbody tr th {\n",
       "        vertical-align: top;\n",
       "    }\n",
       "\n",
       "    .dataframe thead th {\n",
       "        text-align: right;\n",
       "    }\n",
       "</style>\n",
       "<table border=\"1\" class=\"dataframe\">\n",
       "  <thead>\n",
       "    <tr style=\"text-align: right;\">\n",
       "      <th></th>\n",
       "      <th>Seat_comfort</th>\n",
       "      <th>Seat_Class</th>\n",
       "      <th>Arrival_time_convenient</th>\n",
       "      <th>Catering</th>\n",
       "      <th>Platform_location</th>\n",
       "      <th>Onboardwifi_service</th>\n",
       "      <th>Onboard_entertainment</th>\n",
       "      <th>Online_support</th>\n",
       "      <th>Onlinebooking_Ease</th>\n",
       "      <th>Onboard_service</th>\n",
       "      <th>...</th>\n",
       "      <th>Baggage_handling</th>\n",
       "      <th>Checkin_service</th>\n",
       "      <th>Cleanliness</th>\n",
       "      <th>Online_boarding</th>\n",
       "      <th>Gender</th>\n",
       "      <th>CustomerType</th>\n",
       "      <th>Age</th>\n",
       "      <th>TypeTravel</th>\n",
       "      <th>Travel_Class</th>\n",
       "      <th>Travel_Distance</th>\n",
       "    </tr>\n",
       "  </thead>\n",
       "  <tbody>\n",
       "    <tr>\n",
       "      <th>0</th>\n",
       "      <td>2</td>\n",
       "      <td>1</td>\n",
       "      <td>5.0</td>\n",
       "      <td>5</td>\n",
       "      <td>5</td>\n",
       "      <td>4</td>\n",
       "      <td>2</td>\n",
       "      <td>3</td>\n",
       "      <td>2</td>\n",
       "      <td>2</td>\n",
       "      <td>...</td>\n",
       "      <td>1</td>\n",
       "      <td>4</td>\n",
       "      <td>2</td>\n",
       "      <td>1</td>\n",
       "      <td>0</td>\n",
       "      <td>1</td>\n",
       "      <td>52.0</td>\n",
       "      <td>1</td>\n",
       "      <td>0</td>\n",
       "      <td>272</td>\n",
       "    </tr>\n",
       "    <tr>\n",
       "      <th>1</th>\n",
       "      <td>1</td>\n",
       "      <td>0</td>\n",
       "      <td>5.0</td>\n",
       "      <td>1</td>\n",
       "      <td>2</td>\n",
       "      <td>4</td>\n",
       "      <td>1</td>\n",
       "      <td>4</td>\n",
       "      <td>4</td>\n",
       "      <td>5</td>\n",
       "      <td>...</td>\n",
       "      <td>0</td>\n",
       "      <td>2</td>\n",
       "      <td>4</td>\n",
       "      <td>4</td>\n",
       "      <td>1</td>\n",
       "      <td>1</td>\n",
       "      <td>48.0</td>\n",
       "      <td>0</td>\n",
       "      <td>1</td>\n",
       "      <td>2200</td>\n",
       "    </tr>\n",
       "    <tr>\n",
       "      <th>2</th>\n",
       "      <td>2</td>\n",
       "      <td>1</td>\n",
       "      <td>2.0</td>\n",
       "      <td>2</td>\n",
       "      <td>2</td>\n",
       "      <td>2</td>\n",
       "      <td>4</td>\n",
       "      <td>5</td>\n",
       "      <td>5</td>\n",
       "      <td>5</td>\n",
       "      <td>...</td>\n",
       "      <td>4</td>\n",
       "      <td>4</td>\n",
       "      <td>5</td>\n",
       "      <td>5</td>\n",
       "      <td>0</td>\n",
       "      <td>1</td>\n",
       "      <td>43.0</td>\n",
       "      <td>1</td>\n",
       "      <td>0</td>\n",
       "      <td>1061</td>\n",
       "    </tr>\n",
       "    <tr>\n",
       "      <th>3</th>\n",
       "      <td>3</td>\n",
       "      <td>0</td>\n",
       "      <td>2.0</td>\n",
       "      <td>3</td>\n",
       "      <td>2</td>\n",
       "      <td>3</td>\n",
       "      <td>2</td>\n",
       "      <td>3</td>\n",
       "      <td>3</td>\n",
       "      <td>3</td>\n",
       "      <td>...</td>\n",
       "      <td>2</td>\n",
       "      <td>4</td>\n",
       "      <td>3</td>\n",
       "      <td>3</td>\n",
       "      <td>0</td>\n",
       "      <td>1</td>\n",
       "      <td>44.0</td>\n",
       "      <td>1</td>\n",
       "      <td>0</td>\n",
       "      <td>780</td>\n",
       "    </tr>\n",
       "    <tr>\n",
       "      <th>4</th>\n",
       "      <td>3</td>\n",
       "      <td>0</td>\n",
       "      <td>3.0</td>\n",
       "      <td>3</td>\n",
       "      <td>3</td>\n",
       "      <td>2</td>\n",
       "      <td>4</td>\n",
       "      <td>5</td>\n",
       "      <td>4</td>\n",
       "      <td>4</td>\n",
       "      <td>...</td>\n",
       "      <td>3</td>\n",
       "      <td>4</td>\n",
       "      <td>4</td>\n",
       "      <td>4</td>\n",
       "      <td>0</td>\n",
       "      <td>1</td>\n",
       "      <td>50.0</td>\n",
       "      <td>1</td>\n",
       "      <td>0</td>\n",
       "      <td>1981</td>\n",
       "    </tr>\n",
       "    <tr>\n",
       "      <th>...</th>\n",
       "      <td>...</td>\n",
       "      <td>...</td>\n",
       "      <td>...</td>\n",
       "      <td>...</td>\n",
       "      <td>...</td>\n",
       "      <td>...</td>\n",
       "      <td>...</td>\n",
       "      <td>...</td>\n",
       "      <td>...</td>\n",
       "      <td>...</td>\n",
       "      <td>...</td>\n",
       "      <td>...</td>\n",
       "      <td>...</td>\n",
       "      <td>...</td>\n",
       "      <td>...</td>\n",
       "      <td>...</td>\n",
       "      <td>...</td>\n",
       "      <td>...</td>\n",
       "      <td>...</td>\n",
       "      <td>...</td>\n",
       "      <td>...</td>\n",
       "    </tr>\n",
       "    <tr>\n",
       "      <th>94374</th>\n",
       "      <td>1</td>\n",
       "      <td>0</td>\n",
       "      <td>4.0</td>\n",
       "      <td>4</td>\n",
       "      <td>4</td>\n",
       "      <td>1</td>\n",
       "      <td>1</td>\n",
       "      <td>1</td>\n",
       "      <td>1</td>\n",
       "      <td>4</td>\n",
       "      <td>...</td>\n",
       "      <td>3</td>\n",
       "      <td>2</td>\n",
       "      <td>4</td>\n",
       "      <td>1</td>\n",
       "      <td>1</td>\n",
       "      <td>1</td>\n",
       "      <td>32.0</td>\n",
       "      <td>1</td>\n",
       "      <td>0</td>\n",
       "      <td>1357</td>\n",
       "    </tr>\n",
       "    <tr>\n",
       "      <th>94375</th>\n",
       "      <td>4</td>\n",
       "      <td>0</td>\n",
       "      <td>4.0</td>\n",
       "      <td>4</td>\n",
       "      <td>4</td>\n",
       "      <td>2</td>\n",
       "      <td>5</td>\n",
       "      <td>5</td>\n",
       "      <td>3</td>\n",
       "      <td>3</td>\n",
       "      <td>...</td>\n",
       "      <td>2</td>\n",
       "      <td>4</td>\n",
       "      <td>3</td>\n",
       "      <td>4</td>\n",
       "      <td>1</td>\n",
       "      <td>1</td>\n",
       "      <td>44.0</td>\n",
       "      <td>1</td>\n",
       "      <td>0</td>\n",
       "      <td>592</td>\n",
       "    </tr>\n",
       "    <tr>\n",
       "      <th>94376</th>\n",
       "      <td>2</td>\n",
       "      <td>1</td>\n",
       "      <td>2.0</td>\n",
       "      <td>2</td>\n",
       "      <td>2</td>\n",
       "      <td>4</td>\n",
       "      <td>5</td>\n",
       "      <td>4</td>\n",
       "      <td>4</td>\n",
       "      <td>4</td>\n",
       "      <td>...</td>\n",
       "      <td>3</td>\n",
       "      <td>3</td>\n",
       "      <td>4</td>\n",
       "      <td>3</td>\n",
       "      <td>1</td>\n",
       "      <td>1</td>\n",
       "      <td>63.0</td>\n",
       "      <td>1</td>\n",
       "      <td>0</td>\n",
       "      <td>2794</td>\n",
       "    </tr>\n",
       "    <tr>\n",
       "      <th>94377</th>\n",
       "      <td>2</td>\n",
       "      <td>0</td>\n",
       "      <td>4.0</td>\n",
       "      <td>2</td>\n",
       "      <td>4</td>\n",
       "      <td>4</td>\n",
       "      <td>2</td>\n",
       "      <td>4</td>\n",
       "      <td>4</td>\n",
       "      <td>3</td>\n",
       "      <td>...</td>\n",
       "      <td>3</td>\n",
       "      <td>4</td>\n",
       "      <td>5</td>\n",
       "      <td>4</td>\n",
       "      <td>1</td>\n",
       "      <td>1</td>\n",
       "      <td>16.0</td>\n",
       "      <td>0</td>\n",
       "      <td>1</td>\n",
       "      <td>2744</td>\n",
       "    </tr>\n",
       "    <tr>\n",
       "      <th>94378</th>\n",
       "      <td>3</td>\n",
       "      <td>0</td>\n",
       "      <td>1.0</td>\n",
       "      <td>3</td>\n",
       "      <td>3</td>\n",
       "      <td>3</td>\n",
       "      <td>3</td>\n",
       "      <td>3</td>\n",
       "      <td>3</td>\n",
       "      <td>1</td>\n",
       "      <td>...</td>\n",
       "      <td>3</td>\n",
       "      <td>1</td>\n",
       "      <td>4</td>\n",
       "      <td>3</td>\n",
       "      <td>1</td>\n",
       "      <td>1</td>\n",
       "      <td>54.0</td>\n",
       "      <td>1</td>\n",
       "      <td>1</td>\n",
       "      <td>2107</td>\n",
       "    </tr>\n",
       "  </tbody>\n",
       "</table>\n",
       "<p>94379 rows × 21 columns</p>\n",
       "</div>"
      ],
      "text/plain": [
       "       Seat_comfort  Seat_Class  Arrival_time_convenient  Catering  \\\n",
       "0                 2           1                      5.0         5   \n",
       "1                 1           0                      5.0         1   \n",
       "2                 2           1                      2.0         2   \n",
       "3                 3           0                      2.0         3   \n",
       "4                 3           0                      3.0         3   \n",
       "...             ...         ...                      ...       ...   \n",
       "94374             1           0                      4.0         4   \n",
       "94375             4           0                      4.0         4   \n",
       "94376             2           1                      2.0         2   \n",
       "94377             2           0                      4.0         2   \n",
       "94378             3           0                      1.0         3   \n",
       "\n",
       "       Platform_location  Onboardwifi_service  Onboard_entertainment  \\\n",
       "0                      5                    4                      2   \n",
       "1                      2                    4                      1   \n",
       "2                      2                    2                      4   \n",
       "3                      2                    3                      2   \n",
       "4                      3                    2                      4   \n",
       "...                  ...                  ...                    ...   \n",
       "94374                  4                    1                      1   \n",
       "94375                  4                    2                      5   \n",
       "94376                  2                    4                      5   \n",
       "94377                  4                    4                      2   \n",
       "94378                  3                    3                      3   \n",
       "\n",
       "       Online_support  Onlinebooking_Ease  Onboard_service  ...  \\\n",
       "0                   3                   2                2  ...   \n",
       "1                   4                   4                5  ...   \n",
       "2                   5                   5                5  ...   \n",
       "3                   3                   3                3  ...   \n",
       "4                   5                   4                4  ...   \n",
       "...               ...                 ...              ...  ...   \n",
       "94374               1                   1                4  ...   \n",
       "94375               5                   3                3  ...   \n",
       "94376               4                   4                4  ...   \n",
       "94377               4                   4                3  ...   \n",
       "94378               3                   3                1  ...   \n",
       "\n",
       "       Baggage_handling  Checkin_service  Cleanliness  Online_boarding  \\\n",
       "0                     1                4            2                1   \n",
       "1                     0                2            4                4   \n",
       "2                     4                4            5                5   \n",
       "3                     2                4            3                3   \n",
       "4                     3                4            4                4   \n",
       "...                 ...              ...          ...              ...   \n",
       "94374                 3                2            4                1   \n",
       "94375                 2                4            3                4   \n",
       "94376                 3                3            4                3   \n",
       "94377                 3                4            5                4   \n",
       "94378                 3                1            4                3   \n",
       "\n",
       "       Gender  CustomerType   Age  TypeTravel  Travel_Class  Travel_Distance  \n",
       "0           0             1  52.0           1             0              272  \n",
       "1           1             1  48.0           0             1             2200  \n",
       "2           0             1  43.0           1             0             1061  \n",
       "3           0             1  44.0           1             0              780  \n",
       "4           0             1  50.0           1             0             1981  \n",
       "...       ...           ...   ...         ...           ...              ...  \n",
       "94374       1             1  32.0           1             0             1357  \n",
       "94375       1             1  44.0           1             0              592  \n",
       "94376       1             1  63.0           1             0             2794  \n",
       "94377       1             1  16.0           0             1             2744  \n",
       "94378       1             1  54.0           1             1             2107  \n",
       "\n",
       "[94379 rows x 21 columns]"
      ]
     },
     "execution_count": 79,
     "metadata": {},
     "output_type": "execute_result"
    }
   ],
   "source": [
    "X"
   ]
  },
  {
   "cell_type": "code",
   "execution_count": 80,
   "id": "451595df",
   "metadata": {},
   "outputs": [],
   "source": [
    "y = final_df.iloc[:,:1]"
   ]
  },
  {
   "cell_type": "code",
   "execution_count": 81,
   "id": "89bc6cfa",
   "metadata": {},
   "outputs": [
    {
     "data": {
      "text/html": [
       "<div>\n",
       "<style scoped>\n",
       "    .dataframe tbody tr th:only-of-type {\n",
       "        vertical-align: middle;\n",
       "    }\n",
       "\n",
       "    .dataframe tbody tr th {\n",
       "        vertical-align: top;\n",
       "    }\n",
       "\n",
       "    .dataframe thead th {\n",
       "        text-align: right;\n",
       "    }\n",
       "</style>\n",
       "<table border=\"1\" class=\"dataframe\">\n",
       "  <thead>\n",
       "    <tr style=\"text-align: right;\">\n",
       "      <th></th>\n",
       "      <th>Overall_Experience</th>\n",
       "    </tr>\n",
       "  </thead>\n",
       "  <tbody>\n",
       "    <tr>\n",
       "      <th>0</th>\n",
       "      <td>0</td>\n",
       "    </tr>\n",
       "    <tr>\n",
       "      <th>1</th>\n",
       "      <td>0</td>\n",
       "    </tr>\n",
       "    <tr>\n",
       "      <th>2</th>\n",
       "      <td>1</td>\n",
       "    </tr>\n",
       "    <tr>\n",
       "      <th>3</th>\n",
       "      <td>0</td>\n",
       "    </tr>\n",
       "    <tr>\n",
       "      <th>4</th>\n",
       "      <td>1</td>\n",
       "    </tr>\n",
       "    <tr>\n",
       "      <th>...</th>\n",
       "      <td>...</td>\n",
       "    </tr>\n",
       "    <tr>\n",
       "      <th>94374</th>\n",
       "      <td>0</td>\n",
       "    </tr>\n",
       "    <tr>\n",
       "      <th>94375</th>\n",
       "      <td>1</td>\n",
       "    </tr>\n",
       "    <tr>\n",
       "      <th>94376</th>\n",
       "      <td>1</td>\n",
       "    </tr>\n",
       "    <tr>\n",
       "      <th>94377</th>\n",
       "      <td>0</td>\n",
       "    </tr>\n",
       "    <tr>\n",
       "      <th>94378</th>\n",
       "      <td>0</td>\n",
       "    </tr>\n",
       "  </tbody>\n",
       "</table>\n",
       "<p>94379 rows × 1 columns</p>\n",
       "</div>"
      ],
      "text/plain": [
       "       Overall_Experience\n",
       "0                       0\n",
       "1                       0\n",
       "2                       1\n",
       "3                       0\n",
       "4                       1\n",
       "...                   ...\n",
       "94374                   0\n",
       "94375                   1\n",
       "94376                   1\n",
       "94377                   0\n",
       "94378                   0\n",
       "\n",
       "[94379 rows x 1 columns]"
      ]
     },
     "execution_count": 81,
     "metadata": {},
     "output_type": "execute_result"
    }
   ],
   "source": [
    "y"
   ]
  },
  {
   "cell_type": "code",
   "execution_count": 82,
   "id": "9d0da966",
   "metadata": {},
   "outputs": [],
   "source": [
    "from sklearn.model_selection import train_test_split"
   ]
  },
  {
   "cell_type": "code",
   "execution_count": 83,
   "id": "39df70ac",
   "metadata": {},
   "outputs": [],
   "source": [
    "X_train, X_test, y_train, y_test = train_test_split(\n",
    "X, y, test_size=0.33, random_state=123456)"
   ]
  },
  {
   "cell_type": "code",
   "execution_count": 84,
   "id": "87c77b80",
   "metadata": {
    "scrolled": true
   },
   "outputs": [
    {
     "data": {
      "text/html": [
       "<div>\n",
       "<style scoped>\n",
       "    .dataframe tbody tr th:only-of-type {\n",
       "        vertical-align: middle;\n",
       "    }\n",
       "\n",
       "    .dataframe tbody tr th {\n",
       "        vertical-align: top;\n",
       "    }\n",
       "\n",
       "    .dataframe thead th {\n",
       "        text-align: right;\n",
       "    }\n",
       "</style>\n",
       "<table border=\"1\" class=\"dataframe\">\n",
       "  <thead>\n",
       "    <tr style=\"text-align: right;\">\n",
       "      <th></th>\n",
       "      <th>Seat_comfort</th>\n",
       "      <th>Seat_Class</th>\n",
       "      <th>Arrival_time_convenient</th>\n",
       "      <th>Catering</th>\n",
       "      <th>Platform_location</th>\n",
       "      <th>Onboardwifi_service</th>\n",
       "      <th>Onboard_entertainment</th>\n",
       "      <th>Online_support</th>\n",
       "      <th>Onlinebooking_Ease</th>\n",
       "      <th>Onboard_service</th>\n",
       "      <th>...</th>\n",
       "      <th>Baggage_handling</th>\n",
       "      <th>Checkin_service</th>\n",
       "      <th>Cleanliness</th>\n",
       "      <th>Online_boarding</th>\n",
       "      <th>Gender</th>\n",
       "      <th>CustomerType</th>\n",
       "      <th>Age</th>\n",
       "      <th>TypeTravel</th>\n",
       "      <th>Travel_Class</th>\n",
       "      <th>Travel_Distance</th>\n",
       "    </tr>\n",
       "  </thead>\n",
       "  <tbody>\n",
       "    <tr>\n",
       "      <th>12660</th>\n",
       "      <td>4</td>\n",
       "      <td>0</td>\n",
       "      <td>4.0</td>\n",
       "      <td>4</td>\n",
       "      <td>4</td>\n",
       "      <td>4</td>\n",
       "      <td>4</td>\n",
       "      <td>5</td>\n",
       "      <td>4</td>\n",
       "      <td>4</td>\n",
       "      <td>...</td>\n",
       "      <td>3</td>\n",
       "      <td>4</td>\n",
       "      <td>4</td>\n",
       "      <td>3</td>\n",
       "      <td>0</td>\n",
       "      <td>1</td>\n",
       "      <td>16.0</td>\n",
       "      <td>0</td>\n",
       "      <td>1</td>\n",
       "      <td>2886</td>\n",
       "    </tr>\n",
       "    <tr>\n",
       "      <th>26487</th>\n",
       "      <td>5</td>\n",
       "      <td>1</td>\n",
       "      <td>4.0</td>\n",
       "      <td>4</td>\n",
       "      <td>4</td>\n",
       "      <td>3</td>\n",
       "      <td>1</td>\n",
       "      <td>3</td>\n",
       "      <td>5</td>\n",
       "      <td>5</td>\n",
       "      <td>...</td>\n",
       "      <td>4</td>\n",
       "      <td>5</td>\n",
       "      <td>5</td>\n",
       "      <td>1</td>\n",
       "      <td>0</td>\n",
       "      <td>1</td>\n",
       "      <td>53.0</td>\n",
       "      <td>1</td>\n",
       "      <td>1</td>\n",
       "      <td>503</td>\n",
       "    </tr>\n",
       "    <tr>\n",
       "      <th>2417</th>\n",
       "      <td>3</td>\n",
       "      <td>0</td>\n",
       "      <td>2.0</td>\n",
       "      <td>3</td>\n",
       "      <td>2</td>\n",
       "      <td>3</td>\n",
       "      <td>3</td>\n",
       "      <td>3</td>\n",
       "      <td>3</td>\n",
       "      <td>2</td>\n",
       "      <td>...</td>\n",
       "      <td>2</td>\n",
       "      <td>4</td>\n",
       "      <td>3</td>\n",
       "      <td>3</td>\n",
       "      <td>1</td>\n",
       "      <td>1</td>\n",
       "      <td>28.0</td>\n",
       "      <td>1</td>\n",
       "      <td>0</td>\n",
       "      <td>1917</td>\n",
       "    </tr>\n",
       "    <tr>\n",
       "      <th>28328</th>\n",
       "      <td>5</td>\n",
       "      <td>1</td>\n",
       "      <td>5.0</td>\n",
       "      <td>5</td>\n",
       "      <td>5</td>\n",
       "      <td>5</td>\n",
       "      <td>4</td>\n",
       "      <td>4</td>\n",
       "      <td>4</td>\n",
       "      <td>5</td>\n",
       "      <td>...</td>\n",
       "      <td>3</td>\n",
       "      <td>4</td>\n",
       "      <td>5</td>\n",
       "      <td>4</td>\n",
       "      <td>0</td>\n",
       "      <td>1</td>\n",
       "      <td>30.0</td>\n",
       "      <td>0</td>\n",
       "      <td>1</td>\n",
       "      <td>2738</td>\n",
       "    </tr>\n",
       "    <tr>\n",
       "      <th>86183</th>\n",
       "      <td>4</td>\n",
       "      <td>1</td>\n",
       "      <td>3.0</td>\n",
       "      <td>3</td>\n",
       "      <td>3</td>\n",
       "      <td>3</td>\n",
       "      <td>4</td>\n",
       "      <td>3</td>\n",
       "      <td>4</td>\n",
       "      <td>4</td>\n",
       "      <td>...</td>\n",
       "      <td>3</td>\n",
       "      <td>4</td>\n",
       "      <td>4</td>\n",
       "      <td>4</td>\n",
       "      <td>1</td>\n",
       "      <td>1</td>\n",
       "      <td>48.0</td>\n",
       "      <td>1</td>\n",
       "      <td>0</td>\n",
       "      <td>2244</td>\n",
       "    </tr>\n",
       "    <tr>\n",
       "      <th>...</th>\n",
       "      <td>...</td>\n",
       "      <td>...</td>\n",
       "      <td>...</td>\n",
       "      <td>...</td>\n",
       "      <td>...</td>\n",
       "      <td>...</td>\n",
       "      <td>...</td>\n",
       "      <td>...</td>\n",
       "      <td>...</td>\n",
       "      <td>...</td>\n",
       "      <td>...</td>\n",
       "      <td>...</td>\n",
       "      <td>...</td>\n",
       "      <td>...</td>\n",
       "      <td>...</td>\n",
       "      <td>...</td>\n",
       "      <td>...</td>\n",
       "      <td>...</td>\n",
       "      <td>...</td>\n",
       "      <td>...</td>\n",
       "      <td>...</td>\n",
       "    </tr>\n",
       "    <tr>\n",
       "      <th>41131</th>\n",
       "      <td>0</td>\n",
       "      <td>1</td>\n",
       "      <td>4.0</td>\n",
       "      <td>0</td>\n",
       "      <td>1</td>\n",
       "      <td>5</td>\n",
       "      <td>4</td>\n",
       "      <td>4</td>\n",
       "      <td>1</td>\n",
       "      <td>1</td>\n",
       "      <td>...</td>\n",
       "      <td>0</td>\n",
       "      <td>3</td>\n",
       "      <td>1</td>\n",
       "      <td>4</td>\n",
       "      <td>1</td>\n",
       "      <td>1</td>\n",
       "      <td>40.0</td>\n",
       "      <td>1</td>\n",
       "      <td>0</td>\n",
       "      <td>312</td>\n",
       "    </tr>\n",
       "    <tr>\n",
       "      <th>36408</th>\n",
       "      <td>5</td>\n",
       "      <td>0</td>\n",
       "      <td>5.0</td>\n",
       "      <td>3</td>\n",
       "      <td>5</td>\n",
       "      <td>5</td>\n",
       "      <td>5</td>\n",
       "      <td>5</td>\n",
       "      <td>5</td>\n",
       "      <td>5</td>\n",
       "      <td>...</td>\n",
       "      <td>4</td>\n",
       "      <td>4</td>\n",
       "      <td>5</td>\n",
       "      <td>5</td>\n",
       "      <td>0</td>\n",
       "      <td>1</td>\n",
       "      <td>37.0</td>\n",
       "      <td>0</td>\n",
       "      <td>1</td>\n",
       "      <td>1917</td>\n",
       "    </tr>\n",
       "    <tr>\n",
       "      <th>53746</th>\n",
       "      <td>3</td>\n",
       "      <td>0</td>\n",
       "      <td>3.0</td>\n",
       "      <td>3</td>\n",
       "      <td>5</td>\n",
       "      <td>3</td>\n",
       "      <td>3</td>\n",
       "      <td>3</td>\n",
       "      <td>3</td>\n",
       "      <td>4</td>\n",
       "      <td>...</td>\n",
       "      <td>2</td>\n",
       "      <td>5</td>\n",
       "      <td>4</td>\n",
       "      <td>3</td>\n",
       "      <td>0</td>\n",
       "      <td>0</td>\n",
       "      <td>26.0</td>\n",
       "      <td>1</td>\n",
       "      <td>1</td>\n",
       "      <td>1787</td>\n",
       "    </tr>\n",
       "    <tr>\n",
       "      <th>88810</th>\n",
       "      <td>1</td>\n",
       "      <td>1</td>\n",
       "      <td>0.0</td>\n",
       "      <td>0</td>\n",
       "      <td>3</td>\n",
       "      <td>1</td>\n",
       "      <td>0</td>\n",
       "      <td>1</td>\n",
       "      <td>1</td>\n",
       "      <td>4</td>\n",
       "      <td>...</td>\n",
       "      <td>1</td>\n",
       "      <td>1</td>\n",
       "      <td>2</td>\n",
       "      <td>1</td>\n",
       "      <td>0</td>\n",
       "      <td>0</td>\n",
       "      <td>26.0</td>\n",
       "      <td>1</td>\n",
       "      <td>1</td>\n",
       "      <td>2513</td>\n",
       "    </tr>\n",
       "    <tr>\n",
       "      <th>71745</th>\n",
       "      <td>0</td>\n",
       "      <td>0</td>\n",
       "      <td>5.0</td>\n",
       "      <td>3</td>\n",
       "      <td>5</td>\n",
       "      <td>2</td>\n",
       "      <td>0</td>\n",
       "      <td>2</td>\n",
       "      <td>2</td>\n",
       "      <td>4</td>\n",
       "      <td>...</td>\n",
       "      <td>3</td>\n",
       "      <td>4</td>\n",
       "      <td>5</td>\n",
       "      <td>2</td>\n",
       "      <td>0</td>\n",
       "      <td>0</td>\n",
       "      <td>46.0</td>\n",
       "      <td>1</td>\n",
       "      <td>1</td>\n",
       "      <td>2246</td>\n",
       "    </tr>\n",
       "  </tbody>\n",
       "</table>\n",
       "<p>63233 rows × 21 columns</p>\n",
       "</div>"
      ],
      "text/plain": [
       "       Seat_comfort  Seat_Class  Arrival_time_convenient  Catering  \\\n",
       "12660             4           0                      4.0         4   \n",
       "26487             5           1                      4.0         4   \n",
       "2417              3           0                      2.0         3   \n",
       "28328             5           1                      5.0         5   \n",
       "86183             4           1                      3.0         3   \n",
       "...             ...         ...                      ...       ...   \n",
       "41131             0           1                      4.0         0   \n",
       "36408             5           0                      5.0         3   \n",
       "53746             3           0                      3.0         3   \n",
       "88810             1           1                      0.0         0   \n",
       "71745             0           0                      5.0         3   \n",
       "\n",
       "       Platform_location  Onboardwifi_service  Onboard_entertainment  \\\n",
       "12660                  4                    4                      4   \n",
       "26487                  4                    3                      1   \n",
       "2417                   2                    3                      3   \n",
       "28328                  5                    5                      4   \n",
       "86183                  3                    3                      4   \n",
       "...                  ...                  ...                    ...   \n",
       "41131                  1                    5                      4   \n",
       "36408                  5                    5                      5   \n",
       "53746                  5                    3                      3   \n",
       "88810                  3                    1                      0   \n",
       "71745                  5                    2                      0   \n",
       "\n",
       "       Online_support  Onlinebooking_Ease  Onboard_service  ...  \\\n",
       "12660               5                   4                4  ...   \n",
       "26487               3                   5                5  ...   \n",
       "2417                3                   3                2  ...   \n",
       "28328               4                   4                5  ...   \n",
       "86183               3                   4                4  ...   \n",
       "...               ...                 ...              ...  ...   \n",
       "41131               4                   1                1  ...   \n",
       "36408               5                   5                5  ...   \n",
       "53746               3                   3                4  ...   \n",
       "88810               1                   1                4  ...   \n",
       "71745               2                   2                4  ...   \n",
       "\n",
       "       Baggage_handling  Checkin_service  Cleanliness  Online_boarding  \\\n",
       "12660                 3                4            4                3   \n",
       "26487                 4                5            5                1   \n",
       "2417                  2                4            3                3   \n",
       "28328                 3                4            5                4   \n",
       "86183                 3                4            4                4   \n",
       "...                 ...              ...          ...              ...   \n",
       "41131                 0                3            1                4   \n",
       "36408                 4                4            5                5   \n",
       "53746                 2                5            4                3   \n",
       "88810                 1                1            2                1   \n",
       "71745                 3                4            5                2   \n",
       "\n",
       "       Gender  CustomerType   Age  TypeTravel  Travel_Class  Travel_Distance  \n",
       "12660       0             1  16.0           0             1             2886  \n",
       "26487       0             1  53.0           1             1              503  \n",
       "2417        1             1  28.0           1             0             1917  \n",
       "28328       0             1  30.0           0             1             2738  \n",
       "86183       1             1  48.0           1             0             2244  \n",
       "...       ...           ...   ...         ...           ...              ...  \n",
       "41131       1             1  40.0           1             0              312  \n",
       "36408       0             1  37.0           0             1             1917  \n",
       "53746       0             0  26.0           1             1             1787  \n",
       "88810       0             0  26.0           1             1             2513  \n",
       "71745       0             0  46.0           1             1             2246  \n",
       "\n",
       "[63233 rows x 21 columns]"
      ]
     },
     "execution_count": 84,
     "metadata": {},
     "output_type": "execute_result"
    }
   ],
   "source": [
    "X_train"
   ]
  },
  {
   "cell_type": "code",
   "execution_count": 85,
   "id": "9d661d84",
   "metadata": {
    "scrolled": true
   },
   "outputs": [
    {
     "data": {
      "text/plain": [
       "Overall_Experience         0\n",
       "Seat_comfort               0\n",
       "Seat_Class                 0\n",
       "Arrival_time_convenient    0\n",
       "Catering                   0\n",
       "Platform_location          0\n",
       "Onboardwifi_service        0\n",
       "Onboard_entertainment      0\n",
       "Online_support             0\n",
       "Onlinebooking_Ease         0\n",
       "Onboard_service            0\n",
       "Leg_room                   0\n",
       "Baggage_handling           0\n",
       "Checkin_service            0\n",
       "Cleanliness                0\n",
       "Online_boarding            0\n",
       "Gender                     0\n",
       "CustomerType               0\n",
       "Age                        0\n",
       "TypeTravel                 0\n",
       "Travel_Class               0\n",
       "Travel_Distance            0\n",
       "dtype: int64"
      ]
     },
     "execution_count": 85,
     "metadata": {},
     "output_type": "execute_result"
    }
   ],
   "source": [
    "final_df.isnull().sum()"
   ]
  },
  {
   "cell_type": "code",
   "execution_count": 86,
   "id": "aaa395bd",
   "metadata": {
    "scrolled": true
   },
   "outputs": [
    {
     "data": {
      "text/html": [
       "<div>\n",
       "<style scoped>\n",
       "    .dataframe tbody tr th:only-of-type {\n",
       "        vertical-align: middle;\n",
       "    }\n",
       "\n",
       "    .dataframe tbody tr th {\n",
       "        vertical-align: top;\n",
       "    }\n",
       "\n",
       "    .dataframe thead th {\n",
       "        text-align: right;\n",
       "    }\n",
       "</style>\n",
       "<table border=\"1\" class=\"dataframe\">\n",
       "  <thead>\n",
       "    <tr style=\"text-align: right;\">\n",
       "      <th></th>\n",
       "      <th>Overall_Experience</th>\n",
       "    </tr>\n",
       "  </thead>\n",
       "  <tbody>\n",
       "    <tr>\n",
       "      <th>12660</th>\n",
       "      <td>1</td>\n",
       "    </tr>\n",
       "    <tr>\n",
       "      <th>26487</th>\n",
       "      <td>1</td>\n",
       "    </tr>\n",
       "    <tr>\n",
       "      <th>2417</th>\n",
       "      <td>0</td>\n",
       "    </tr>\n",
       "    <tr>\n",
       "      <th>28328</th>\n",
       "      <td>1</td>\n",
       "    </tr>\n",
       "    <tr>\n",
       "      <th>86183</th>\n",
       "      <td>0</td>\n",
       "    </tr>\n",
       "    <tr>\n",
       "      <th>...</th>\n",
       "      <td>...</td>\n",
       "    </tr>\n",
       "    <tr>\n",
       "      <th>41131</th>\n",
       "      <td>1</td>\n",
       "    </tr>\n",
       "    <tr>\n",
       "      <th>36408</th>\n",
       "      <td>1</td>\n",
       "    </tr>\n",
       "    <tr>\n",
       "      <th>53746</th>\n",
       "      <td>0</td>\n",
       "    </tr>\n",
       "    <tr>\n",
       "      <th>88810</th>\n",
       "      <td>0</td>\n",
       "    </tr>\n",
       "    <tr>\n",
       "      <th>71745</th>\n",
       "      <td>1</td>\n",
       "    </tr>\n",
       "  </tbody>\n",
       "</table>\n",
       "<p>63233 rows × 1 columns</p>\n",
       "</div>"
      ],
      "text/plain": [
       "       Overall_Experience\n",
       "12660                   1\n",
       "26487                   1\n",
       "2417                    0\n",
       "28328                   1\n",
       "86183                   0\n",
       "...                   ...\n",
       "41131                   1\n",
       "36408                   1\n",
       "53746                   0\n",
       "88810                   0\n",
       "71745                   1\n",
       "\n",
       "[63233 rows x 1 columns]"
      ]
     },
     "execution_count": 86,
     "metadata": {},
     "output_type": "execute_result"
    }
   ],
   "source": [
    "y_train"
   ]
  },
  {
   "cell_type": "markdown",
   "id": "ba95778a",
   "metadata": {},
   "source": [
    "# LDA"
   ]
  },
  {
   "cell_type": "code",
   "execution_count": 87,
   "id": "c7548f63",
   "metadata": {},
   "outputs": [],
   "source": [
    "from sklearn.preprocessing import StandardScaler\n",
    "scaler = StandardScaler()\n",
    "X_train=scaler.fit_transform(X_train)\n",
    "X_test=scaler.transform(X_test)"
   ]
  },
  {
   "cell_type": "code",
   "execution_count": 88,
   "id": "30abe25e",
   "metadata": {},
   "outputs": [],
   "source": [
    "from sklearn.discriminant_analysis import LinearDiscriminantAnalysis"
   ]
  },
  {
   "cell_type": "code",
   "execution_count": 89,
   "id": "2c5ef601",
   "metadata": {
    "scrolled": true
   },
   "outputs": [
    {
     "name": "stderr",
     "output_type": "stream",
     "text": [
      "C:\\ProgramData\\Anaconda3\\lib\\site-packages\\sklearn\\utils\\validation.py:993: DataConversionWarning: A column-vector y was passed when a 1d array was expected. Please change the shape of y to (n_samples, ), for example using ravel().\n",
      "  y = column_or_1d(y, warn=True)\n"
     ]
    },
    {
     "data": {
      "text/plain": [
       "LinearDiscriminantAnalysis()"
      ]
     },
     "execution_count": 89,
     "metadata": {},
     "output_type": "execute_result"
    }
   ],
   "source": [
    "LDA = LinearDiscriminantAnalysis()\n",
    "model_LDA = LDA.fit(X_train,y_train)\n",
    "model_LDA"
   ]
  },
  {
   "cell_type": "code",
   "execution_count": 90,
   "id": "b4a300ba",
   "metadata": {},
   "outputs": [],
   "source": [
    "LDA_pred = model_LDA.predict(X_test)"
   ]
  },
  {
   "cell_type": "code",
   "execution_count": 91,
   "id": "5b04a6b7",
   "metadata": {},
   "outputs": [
    {
     "data": {
      "text/plain": [
       "0.8283567713350029"
      ]
     },
     "execution_count": 91,
     "metadata": {},
     "output_type": "execute_result"
    }
   ],
   "source": [
    "model_LDA.score(X_test,y_test)"
   ]
  },
  {
   "cell_type": "code",
   "execution_count": 92,
   "id": "64c8bac3",
   "metadata": {},
   "outputs": [
    {
     "name": "stdout",
     "output_type": "stream",
     "text": [
      "              precision    recall  f1-score   support\n",
      "\n",
      "           0       0.82      0.80      0.81     14189\n",
      "           1       0.84      0.85      0.84     16957\n",
      "\n",
      "    accuracy                           0.83     31146\n",
      "   macro avg       0.83      0.83      0.83     31146\n",
      "weighted avg       0.83      0.83      0.83     31146\n",
      "\n"
     ]
    }
   ],
   "source": [
    "from sklearn.metrics import classification_report\n",
    "print(classification_report(y_test, LDA_pred))"
   ]
  },
  {
   "cell_type": "code",
   "execution_count": 93,
   "id": "d25ff706",
   "metadata": {},
   "outputs": [
    {
     "data": {
      "image/png": "[encoded data removed]",
      "text/plain": [
       "<Figure size 600x400 with 2 Axes>"
      ]
     },
     "metadata": {},
     "output_type": "display_data"
    }
   ],
   "source": [
    "plt.figure(figsize=(6,4))\n",
    "sns.heatmap(confusion_matrix(y_test, LDA_pred),annot=True,fmt='.4g'),'\\n\\n'\n",
    "plt.ylabel('Actual Value')\n",
    "plt.xlabel('Predicted Value')\n",
    "plt.show()"
   ]
  },
  {
   "cell_type": "markdown",
   "id": "20a8a1ab",
   "metadata": {},
   "source": [
    "# LOGISTIC REGRESSION"
   ]
  },
  {
   "cell_type": "code",
   "execution_count": 95,
   "id": "57fec4ac",
   "metadata": {},
   "outputs": [],
   "source": [
    "from sklearn.linear_model import LogisticRegression"
   ]
  },
  {
   "cell_type": "code",
   "execution_count": 96,
   "id": "2860e3d4",
   "metadata": {},
   "outputs": [
    {
     "name": "stdout",
     "output_type": "stream",
     "text": [
      "model_score: 0.827907275412573\n",
      "[[11419  2770]\n",
      " [ 2590 14367]]\n",
      "              precision    recall  f1-score   support\n",
      "\n",
      "           0       0.82      0.80      0.81     14189\n",
      "           1       0.84      0.85      0.84     16957\n",
      "\n",
      "    accuracy                           0.83     31146\n",
      "   macro avg       0.83      0.83      0.83     31146\n",
      "weighted avg       0.83      0.83      0.83     31146\n",
      "\n"
     ]
    },
    {
     "name": "stderr",
     "output_type": "stream",
     "text": [
      "C:\\ProgramData\\Anaconda3\\lib\\site-packages\\sklearn\\utils\\validation.py:993: DataConversionWarning: A column-vector y was passed when a 1d array was expected. Please change the shape of y to (n_samples, ), for example using ravel().\n",
      "  y = column_or_1d(y, warn=True)\n"
     ]
    }
   ],
   "source": [
    "from sklearn import metrics\n",
    "model_log = LogisticRegression()\n",
    "model_log.fit(X_train, y_train)\n",
    "y_predict = model_log.predict(X_test)\n",
    "model_score = model_log.score(X_test, y_test)\n",
    "print('model_score:', model_score)\n",
    "print(metrics.confusion_matrix(y_test, y_predict))\n",
    "print(metrics.classification_report(y_test, y_predict))"
   ]
  },
  {
   "cell_type": "code",
   "execution_count": 97,
   "id": "929017e2",
   "metadata": {},
   "outputs": [
    {
     "data": {
      "text/plain": [
       "0.827907275412573"
      ]
     },
     "execution_count": 97,
     "metadata": {},
     "output_type": "execute_result"
    }
   ],
   "source": [
    "model_log.score(X_test, y_test)"
   ]
  },
  {
   "cell_type": "code",
   "execution_count": 98,
   "id": "c992be5b",
   "metadata": {},
   "outputs": [
    {
     "data": {
      "image/png": "[encoded data removed]",
      "text/plain": [
       "<Figure size 600x400 with 2 Axes>"
      ]
     },
     "metadata": {},
     "output_type": "display_data"
    }
   ],
   "source": [
    "plt.figure(figsize=(6,4))\n",
    "sns.heatmap(confusion_matrix(y_test, y_predict),annot=True,fmt='.4g'),'\\n\\n'\n",
    "plt.ylabel('Actual Value')\n",
    "plt.xlabel('Predicted Value')\n",
    "plt.show();"
   ]
  },
  {
   "cell_type": "code",
   "execution_count": null,
   "id": "ca83801a",
   "metadata": {},
   "outputs": [],
   "source": []
  },
  {
   "cell_type": "code",
   "execution_count": null,
   "id": "4d559e1f",
   "metadata": {},
   "outputs": [],
   "source": []
  },
  {
   "cell_type": "code",
   "execution_count": null,
   "id": "8d5f166d",
   "metadata": {},
   "outputs": [],
   "source": []
  },
  {
   "cell_type": "code",
   "execution_count": null,
   "id": "1f023622",
   "metadata": {},
   "outputs": [],
   "source": []
  },
  {
   "cell_type": "code",
   "execution_count": null,
   "id": "5318b2ad",
   "metadata": {},
   "outputs": [],
   "source": []
  },
  {
   "cell_type": "code",
   "execution_count": null,
   "id": "5a9066e3",
   "metadata": {},
   "outputs": [],
   "source": []
  },
  {
   "cell_type": "code",
   "execution_count": null,
   "id": "6ff652b1",
   "metadata": {},
   "outputs": [],
   "source": []
  },
  {
   "cell_type": "code",
   "execution_count": null,
   "id": "f65188c3",
   "metadata": {},
   "outputs": [],
   "source": []
  },
  {
   "cell_type": "code",
   "execution_count": null,
   "id": "ed5458b1",
   "metadata": {},
   "outputs": [],
   "source": []
  },
  {
   "cell_type": "code",
   "execution_count": null,
   "id": "9a421aca",
   "metadata": {},
   "outputs": [],
   "source": []
  },
  {
   "cell_type": "code",
   "execution_count": null,
   "id": "628d5eae",
   "metadata": {},
   "outputs": [],
   "source": []
  },
  {
   "cell_type": "code",
   "execution_count": null,
   "id": "3029e354",
   "metadata": {},
   "outputs": [],
   "source": []
  }
 ],
 "metadata": {
  "kernelspec": {
   "display_name": "Python 3 (ipykernel)",
   "language": "python",
   "name": "python3"
  },
  "language_info": {
   "codemirror_mode": {
    "name": "ipython",
    "version": 3
   },
   "file_extension": ".py",
   "mimetype": "text/x-python",
   "name": "python",
   "nbconvert_exporter": "python",
   "pygments_lexer": "ipython3",
   "version": "3.9.13"
  }
 },
 "nbformat": 4,
 "nbformat_minor": 5
}
